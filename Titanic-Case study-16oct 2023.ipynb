{
 "cells": [
  {
   "cell_type": "code",
   "execution_count": 550,
   "id": "b4537721",
   "metadata": {},
   "outputs": [],
   "source": [
    "import pandas as pd\n",
    "import numpy as np\n",
    "import seaborn as sns\n",
    "import matplotlib.pyplot as plt\n",
    "from sklearn.model_selection import KFold\n",
    "from sklearn.model_selection import cross_val_score\n",
    "from sklearn.linear_model import LogisticRegression\n",
    "from sklearn.preprocessing import LabelEncoder\n",
    "from sklearn.preprocessing import StandardScaler\n",
    "from sklearn.model_selection import StratifiedKFold"
   ]
  },
  {
   "cell_type": "code",
   "execution_count": 551,
   "id": "fbbcc043",
   "metadata": {},
   "outputs": [],
   "source": [
    "data=df_titanic=pd.read_csv('Titanic-Dataset.csv')\n"
   ]
  },
  {
   "cell_type": "code",
   "execution_count": 552,
   "id": "c59195d8",
   "metadata": {},
   "outputs": [
    {
     "data": {
      "text/plain": [
       "(891, 12)"
      ]
     },
     "execution_count": 552,
     "metadata": {},
     "output_type": "execute_result"
    }
   ],
   "source": [
    "data.shape"
   ]
  },
  {
   "cell_type": "code",
   "execution_count": 553,
   "id": "b63761a8",
   "metadata": {},
   "outputs": [
    {
     "data": {
      "text/plain": [
       "PassengerId      int64\n",
       "Survived         int64\n",
       "Pclass           int64\n",
       "Name            object\n",
       "Sex             object\n",
       "Age            float64\n",
       "SibSp            int64\n",
       "Parch            int64\n",
       "Ticket          object\n",
       "Fare           float64\n",
       "Cabin           object\n",
       "Embarked        object\n",
       "dtype: object"
      ]
     },
     "execution_count": 553,
     "metadata": {},
     "output_type": "execute_result"
    }
   ],
   "source": [
    "data.dtypes"
   ]
  },
  {
   "cell_type": "code",
   "execution_count": 554,
   "id": "4ad41301",
   "metadata": {},
   "outputs": [
    {
     "data": {
      "text/html": [
       "<div>\n",
       "<style scoped>\n",
       "    .dataframe tbody tr th:only-of-type {\n",
       "        vertical-align: middle;\n",
       "    }\n",
       "\n",
       "    .dataframe tbody tr th {\n",
       "        vertical-align: top;\n",
       "    }\n",
       "\n",
       "    .dataframe thead th {\n",
       "        text-align: right;\n",
       "    }\n",
       "</style>\n",
       "<table border=\"1\" class=\"dataframe\">\n",
       "  <thead>\n",
       "    <tr style=\"text-align: right;\">\n",
       "      <th></th>\n",
       "      <th>count</th>\n",
       "      <th>mean</th>\n",
       "      <th>std</th>\n",
       "      <th>min</th>\n",
       "      <th>25%</th>\n",
       "      <th>50%</th>\n",
       "      <th>75%</th>\n",
       "      <th>max</th>\n",
       "    </tr>\n",
       "  </thead>\n",
       "  <tbody>\n",
       "    <tr>\n",
       "      <th>PassengerId</th>\n",
       "      <td>891.0</td>\n",
       "      <td>446.000000</td>\n",
       "      <td>257.353842</td>\n",
       "      <td>1.00</td>\n",
       "      <td>223.5000</td>\n",
       "      <td>446.0000</td>\n",
       "      <td>668.5</td>\n",
       "      <td>891.0000</td>\n",
       "    </tr>\n",
       "    <tr>\n",
       "      <th>Survived</th>\n",
       "      <td>891.0</td>\n",
       "      <td>0.383838</td>\n",
       "      <td>0.486592</td>\n",
       "      <td>0.00</td>\n",
       "      <td>0.0000</td>\n",
       "      <td>0.0000</td>\n",
       "      <td>1.0</td>\n",
       "      <td>1.0000</td>\n",
       "    </tr>\n",
       "    <tr>\n",
       "      <th>Pclass</th>\n",
       "      <td>891.0</td>\n",
       "      <td>2.308642</td>\n",
       "      <td>0.836071</td>\n",
       "      <td>1.00</td>\n",
       "      <td>2.0000</td>\n",
       "      <td>3.0000</td>\n",
       "      <td>3.0</td>\n",
       "      <td>3.0000</td>\n",
       "    </tr>\n",
       "    <tr>\n",
       "      <th>Age</th>\n",
       "      <td>714.0</td>\n",
       "      <td>29.699118</td>\n",
       "      <td>14.526497</td>\n",
       "      <td>0.42</td>\n",
       "      <td>20.1250</td>\n",
       "      <td>28.0000</td>\n",
       "      <td>38.0</td>\n",
       "      <td>80.0000</td>\n",
       "    </tr>\n",
       "    <tr>\n",
       "      <th>SibSp</th>\n",
       "      <td>891.0</td>\n",
       "      <td>0.523008</td>\n",
       "      <td>1.102743</td>\n",
       "      <td>0.00</td>\n",
       "      <td>0.0000</td>\n",
       "      <td>0.0000</td>\n",
       "      <td>1.0</td>\n",
       "      <td>8.0000</td>\n",
       "    </tr>\n",
       "    <tr>\n",
       "      <th>Parch</th>\n",
       "      <td>891.0</td>\n",
       "      <td>0.381594</td>\n",
       "      <td>0.806057</td>\n",
       "      <td>0.00</td>\n",
       "      <td>0.0000</td>\n",
       "      <td>0.0000</td>\n",
       "      <td>0.0</td>\n",
       "      <td>6.0000</td>\n",
       "    </tr>\n",
       "    <tr>\n",
       "      <th>Fare</th>\n",
       "      <td>891.0</td>\n",
       "      <td>32.204208</td>\n",
       "      <td>49.693429</td>\n",
       "      <td>0.00</td>\n",
       "      <td>7.9104</td>\n",
       "      <td>14.4542</td>\n",
       "      <td>31.0</td>\n",
       "      <td>512.3292</td>\n",
       "    </tr>\n",
       "  </tbody>\n",
       "</table>\n",
       "</div>"
      ],
      "text/plain": [
       "             count        mean         std   min       25%       50%    75%  \\\n",
       "PassengerId  891.0  446.000000  257.353842  1.00  223.5000  446.0000  668.5   \n",
       "Survived     891.0    0.383838    0.486592  0.00    0.0000    0.0000    1.0   \n",
       "Pclass       891.0    2.308642    0.836071  1.00    2.0000    3.0000    3.0   \n",
       "Age          714.0   29.699118   14.526497  0.42   20.1250   28.0000   38.0   \n",
       "SibSp        891.0    0.523008    1.102743  0.00    0.0000    0.0000    1.0   \n",
       "Parch        891.0    0.381594    0.806057  0.00    0.0000    0.0000    0.0   \n",
       "Fare         891.0   32.204208   49.693429  0.00    7.9104   14.4542   31.0   \n",
       "\n",
       "                  max  \n",
       "PassengerId  891.0000  \n",
       "Survived       1.0000  \n",
       "Pclass         3.0000  \n",
       "Age           80.0000  \n",
       "SibSp          8.0000  \n",
       "Parch          6.0000  \n",
       "Fare         512.3292  "
      ]
     },
     "execution_count": 554,
     "metadata": {},
     "output_type": "execute_result"
    }
   ],
   "source": [
    "data.describe().T"
   ]
  },
  {
   "cell_type": "code",
   "execution_count": 555,
   "id": "dd938721",
   "metadata": {},
   "outputs": [],
   "source": [
    "#we are not scaling the y variable.Only transfomration on yvariable...."
   ]
  },
  {
   "cell_type": "code",
   "execution_count": 556,
   "id": "05baa6cd",
   "metadata": {},
   "outputs": [
    {
     "data": {
      "text/plain": [
       "<bound method DataFrame.dropna of      PassengerId  Survived  Pclass  \\\n",
       "0              1         0       3   \n",
       "1              2         1       1   \n",
       "2              3         1       3   \n",
       "3              4         1       1   \n",
       "4              5         0       3   \n",
       "..           ...       ...     ...   \n",
       "886          887         0       2   \n",
       "887          888         1       1   \n",
       "888          889         0       3   \n",
       "889          890         1       1   \n",
       "890          891         0       3   \n",
       "\n",
       "                                                  Name     Sex   Age  SibSp  \\\n",
       "0                              Braund, Mr. Owen Harris    male  22.0      1   \n",
       "1    Cumings, Mrs. John Bradley (Florence Briggs Th...  female  38.0      1   \n",
       "2                               Heikkinen, Miss. Laina  female  26.0      0   \n",
       "3         Futrelle, Mrs. Jacques Heath (Lily May Peel)  female  35.0      1   \n",
       "4                             Allen, Mr. William Henry    male  35.0      0   \n",
       "..                                                 ...     ...   ...    ...   \n",
       "886                              Montvila, Rev. Juozas    male  27.0      0   \n",
       "887                       Graham, Miss. Margaret Edith  female  19.0      0   \n",
       "888           Johnston, Miss. Catherine Helen \"Carrie\"  female   NaN      1   \n",
       "889                              Behr, Mr. Karl Howell    male  26.0      0   \n",
       "890                                Dooley, Mr. Patrick    male  32.0      0   \n",
       "\n",
       "     Parch            Ticket     Fare Cabin Embarked  \n",
       "0        0         A/5 21171   7.2500   NaN        S  \n",
       "1        0          PC 17599  71.2833   C85        C  \n",
       "2        0  STON/O2. 3101282   7.9250   NaN        S  \n",
       "3        0            113803  53.1000  C123        S  \n",
       "4        0            373450   8.0500   NaN        S  \n",
       "..     ...               ...      ...   ...      ...  \n",
       "886      0            211536  13.0000   NaN        S  \n",
       "887      0            112053  30.0000   B42        S  \n",
       "888      2        W./C. 6607  23.4500   NaN        S  \n",
       "889      0            111369  30.0000  C148        C  \n",
       "890      0            370376   7.7500   NaN        Q  \n",
       "\n",
       "[891 rows x 12 columns]>"
      ]
     },
     "execution_count": 556,
     "metadata": {},
     "output_type": "execute_result"
    }
   ],
   "source": [
    "data.dropna"
   ]
  },
  {
   "cell_type": "code",
   "execution_count": 557,
   "id": "7505053a",
   "metadata": {},
   "outputs": [
    {
     "data": {
      "text/plain": [
       "<Axes: >"
      ]
     },
     "execution_count": 557,
     "metadata": {},
     "output_type": "execute_result"
    },
    {
     "data": {
      "image/png": "[encoded data removed]",
      "text/plain": [
       "<Figure size 500x500 with 1 Axes>"
      ]
     },
     "metadata": {},
     "output_type": "display_data"
    }
   ],
   "source": [
    "data=df_titanic\n",
    "\n",
    "df_titanic['Age'].hist()\n"
   ]
  },
  {
   "cell_type": "code",
   "execution_count": 558,
   "id": "ea39d3a7",
   "metadata": {},
   "outputs": [
    {
     "ename": "SyntaxError",
     "evalue": "positional argument follows keyword argument (109467203.py, line 1)",
     "output_type": "error",
     "traceback": [
      "\u001b[1;36m  Cell \u001b[1;32mIn[558], line 1\u001b[1;36m\u001b[0m\n\u001b[1;33m    plt.hist(x='Age',data=df_titanic,bins[0,15,20,30,40,50,60,70,80],color='yellow',edgecolor='red'),\u001b[0m\n\u001b[1;37m                                                                                                   ^\u001b[0m\n\u001b[1;31mSyntaxError\u001b[0m\u001b[1;31m:\u001b[0m positional argument follows keyword argument\n"
     ]
    }
   ],
   "source": [
    "plt.hist(x='Age',data=df_titanic,bins[0,15,20,30,40,50,60,70,80],color='yellow',edgecolor='red'),\n",
    "plt.show()"
   ]
  },
  {
   "cell_type": "code",
   "execution_count": null,
   "id": "21194cb3",
   "metadata": {},
   "outputs": [],
   "source": [
    "sns.distplot(df_titanic['Age'])"
   ]
  },
  {
   "cell_type": "code",
   "execution_count": null,
   "id": "1534f0e1",
   "metadata": {},
   "outputs": [],
   "source": [
    "#The data is right skewed..."
   ]
  },
  {
   "cell_type": "code",
   "execution_count": null,
   "id": "4fc4344a",
   "metadata": {},
   "outputs": [],
   "source": [
    "me=df_titanic['Age'].mean()\n",
    "md=df_titanic['Age'].mean()\n",
    "mo=df_titanic['Age'].mean()"
   ]
  },
  {
   "cell_type": "code",
   "execution_count": null,
   "id": "ff4cdbaa",
   "metadata": {},
   "outputs": [],
   "source": [
    "#Display ,mena.median and mode\n",
    "sns.kdeplot(df_titanic['Age']);\n",
    "plt.axvline(me,label='Mean',color='Red');\n",
    "plt.axvline(md,label='Median',color='Green');\n",
    "plt.axvline(mo,label='Mode',color='Orange');\n"
   ]
  },
  {
   "cell_type": "code",
   "execution_count": null,
   "id": "2136e9b3",
   "metadata": {},
   "outputs": [],
   "source": [
    "skewness = skew(data)\n",
    "kurtosis = kurt(data)\n",
    "\n"
   ]
  },
  {
   "cell_type": "code",
   "execution_count": null,
   "id": "2d2f1241",
   "metadata": {},
   "outputs": [],
   "source": [
    "print(\"Skewness:\", skew)\n",
    "print(\"Kurtosis:\", kurt)"
   ]
  },
  {
   "cell_type": "code",
   "execution_count": null,
   "id": "aa6afa78",
   "metadata": {},
   "outputs": [],
   "source": [
    "print(\"skewness is\",df_titanic['Age'].skew()]\n",
    "      "
   ]
  },
  {
   "cell_type": "code",
   "execution_count": null,
   "id": "f9876796",
   "metadata": {},
   "outputs": [],
   "source": []
  },
  {
   "cell_type": "code",
   "execution_count": null,
   "id": "7fc2f5be",
   "metadata": {},
   "outputs": [],
   "source": [
    "df_titanic['Age'].describe()"
   ]
  },
  {
   "cell_type": "code",
   "execution_count": null,
   "id": "3b48b74c",
   "metadata": {},
   "outputs": [],
   "source": [
    "#Inference:\n",
    "#looking at the minimum age,there are kids\n"
   ]
  },
  {
   "cell_type": "code",
   "execution_count": null,
   "id": "cd49078f",
   "metadata": {},
   "outputs": [],
   "source": [
    "df_titanic['Fare'].hist(bins=[0,15,20,30,40,50,60,70,80],color='red')"
   ]
  },
  {
   "cell_type": "code",
   "execution_count": null,
   "id": "035fd2f6",
   "metadata": {},
   "outputs": [],
   "source": [
    "sns.distplot(df_titanic['Fare'])\n",
    "plt.show()"
   ]
  },
  {
   "cell_type": "code",
   "execution_count": null,
   "id": "df5d8cbe",
   "metadata": {},
   "outputs": [],
   "source": [
    "#Display ,mena.median and mode\n",
    "sns.kdeplot(df_titanic['Fare']);\n",
    "plt.axvline(me,label='Mean',color='Red');\n",
    "plt.axvline(md,label='Median',color='Green');\n",
    "plt.axvline(mo,label='Mode',color='Orange');\n"
   ]
  },
  {
   "cell_type": "code",
   "execution_count": null,
   "id": "d600c265",
   "metadata": {},
   "outputs": [],
   "source": [
    "skewness = skew(data)\n",
    "kurtosis = kurt(data)\n",
    "\n"
   ]
  },
  {
   "cell_type": "code",
   "execution_count": null,
   "id": "b5fc732e",
   "metadata": {},
   "outputs": [],
   "source": [
    "print(\"Skewness:\", skew)\n",
    "print(\"Kurtosis:\", kurt)\n"
   ]
  },
  {
   "cell_type": "code",
   "execution_count": null,
   "id": "6b9e20a2",
   "metadata": {},
   "outputs": [],
   "source": [
    "#cumulative plot and its relevance\n",
    "sns.kdeplot(x='Fare',data=df_titanic,cumulative=True);\n",
    "plt.axvline(90,color='red')\n",
    "plt.axhline(0.93,color='orange')\n",
    "plt.show()"
   ]
  },
  {
   "cell_type": "code",
   "execution_count": null,
   "id": "89380cda",
   "metadata": {},
   "outputs": [],
   "source": [
    "#The above ploit is telling about the probability...."
   ]
  },
  {
   "cell_type": "code",
   "execution_count": null,
   "id": "665d3a6f",
   "metadata": {},
   "outputs": [],
   "source": [
    "df_titanic['Fare'][df_titanic['Fare']==0].count()"
   ]
  },
  {
   "cell_type": "code",
   "execution_count": null,
   "id": "9e0119d9",
   "metadata": {},
   "outputs": [],
   "source": [
    "df_titanic.info()"
   ]
  },
  {
   "cell_type": "code",
   "execution_count": null,
   "id": "685ceba4",
   "metadata": {},
   "outputs": [],
   "source": [
    "area, (first_box, second_hist) = plt.subplots(2, sharex=True, gridspec_kw={\"height_ratios\": (.15, .85)})\n",
    "sns.boxplot(df_titanic['Fare'], ax=first_box, orient='h',color='yellow')\n",
    "sns.distplot(df_titanic['Fare'], ax=second_hist)\n",
    "plt.show()"
   ]
  },
  {
   "cell_type": "code",
   "execution_count": null,
   "id": "90505776",
   "metadata": {},
   "outputs": [],
   "source": [
    "num_cols=df_titanic.select_dtypes(include=np.number)\n",
    "num_cols.columns"
   ]
  },
  {
   "cell_type": "code",
   "execution_count": null,
   "id": "fa90f3e6",
   "metadata": {},
   "outputs": [],
   "source": [
    "num_cols=num_cols[['Age','Fare']]"
   ]
  },
  {
   "cell_type": "code",
   "execution_count": null,
   "id": "81db5dea",
   "metadata": {},
   "outputs": [],
   "source": [
    "plt.rcParams['figure.figsize']=10,10"
   ]
  },
  {
   "cell_type": "code",
   "execution_count": null,
   "id": "908454f1",
   "metadata": {},
   "outputs": [],
   "source": [
    "j=1\n",
    "for i in num_cols:\n",
    "    plt.subplot(2,3,j)\n",
    "    sns.boxplot(x=df_titanic.loc[:,i])\n",
    "    plt.title(i)\n",
    "    j=j+1\n",
    "    \n",
    "    plt.xticks(rotation=45,fontsize=8)\n",
    "    plt.tight_layout()\n",
    "    plt.show()"
   ]
  },
  {
   "cell_type": "code",
   "execution_count": null,
   "id": "96364e7d",
   "metadata": {},
   "outputs": [],
   "source": [
    "cols=['Embarked','Survived','Sex']"
   ]
  },
  {
   "cell_type": "code",
   "execution_count": null,
   "id": "e9a77e46",
   "metadata": {},
   "outputs": [],
   "source": [
    "for i in cols:\n",
    "    df_titanic[i]=df_titanic[i].astype(object)"
   ]
  },
  {
   "cell_type": "code",
   "execution_count": null,
   "id": "1c4e9fc0",
   "metadata": {},
   "outputs": [],
   "source": [
    "df_titanic.info()"
   ]
  },
  {
   "cell_type": "code",
   "execution_count": null,
   "id": "507f029c",
   "metadata": {},
   "outputs": [],
   "source": [
    "j=1\n",
    "for i in cols:\n",
    "    plt.subplot(2,3,j)\n",
    "    sns.countplot(x=df_titanic.loc[:,i])\n",
    "    plt.title(i)\n",
    "    j=j+1\n",
    "    \n",
    "    plt.xticks(rotation=45,fontsize=8)\n",
    "    plt.tight_layout()\n",
    "    plt.show()"
   ]
  },
  {
   "cell_type": "code",
   "execution_count": null,
   "id": "0ee0c425",
   "metadata": {},
   "outputs": [],
   "source": [
    "#Inferences:\n",
    "#Many of the m embarked from south hampton\n",
    "#manyt of the passnegers did not survive..."
   ]
  },
  {
   "cell_type": "markdown",
   "id": "d95f02b6",
   "metadata": {},
   "source": [
    "# Bivariate Analysis"
   ]
  },
  {
   "cell_type": "code",
   "execution_count": null,
   "id": "75bc9a27",
   "metadata": {},
   "outputs": [],
   "source": [
    "num_cols=['Age','Fare']"
   ]
  },
  {
   "cell_type": "code",
   "execution_count": null,
   "id": "09fdfc31",
   "metadata": {},
   "outputs": [],
   "source": [
    "j=1\n",
    "for i in cols:\n",
    "    plt.subplot(2,3,j)\n",
    "    sns.boxplot(x=df_titanic['Survived'],y=df_titanic.loc[:,i])\n",
    "    plt.title(i)\n",
    "    j=j+1\n",
    "    \n",
    "    plt.xticks(rotation=45,fontsize=8)\n",
    "    plt.tight_layout()\n",
    "    plt.show()"
   ]
  },
  {
   "cell_type": "markdown",
   "id": "f34f2caf",
   "metadata": {},
   "source": [
    "# Multivariate Analysis#"
   ]
  },
  {
   "cell_type": "code",
   "execution_count": null,
   "id": "9c5ea827",
   "metadata": {},
   "outputs": [],
   "source": [
    "\n",
    "sns.pairplot(df_titanic, hue='Survived')\n",
    "plt.show()"
   ]
  },
  {
   "cell_type": "code",
   "execution_count": null,
   "id": "ad21d553",
   "metadata": {},
   "outputs": [],
   "source": [
    "#Inference:\n",
    "#oldest person to survive is 80 yeras\n",
    "#Young people survved more in comparison to older ppl...."
   ]
  },
  {
   "cell_type": "code",
   "execution_count": null,
   "id": "bae72d0c",
   "metadata": {},
   "outputs": [],
   "source": [
    "#Lets look at the stats"
   ]
  },
  {
   "cell_type": "code",
   "execution_count": null,
   "id": "2f080594",
   "metadata": {},
   "outputs": [],
   "source": [
    "df_titanic.groupby(\"Survived\")['Fare'].describe()#median=26"
   ]
  },
  {
   "cell_type": "code",
   "execution_count": null,
   "id": "374be60b",
   "metadata": {},
   "outputs": [],
   "source": [
    "#Inference:\n",
    "#Mena of the fare who survived is more than who did not survive..."
   ]
  },
  {
   "cell_type": "code",
   "execution_count": null,
   "id": "0d813a5c",
   "metadata": {},
   "outputs": [],
   "source": [
    "df_titanic.groupby(\"Survived\")['Pclass'].value_counts()"
   ]
  },
  {
   "cell_type": "code",
   "execution_count": null,
   "id": "b6af21e9",
   "metadata": {},
   "outputs": [],
   "source": [
    "plt.rcParams['figure.figsize']=[5,5]\n",
    "pd.crosstab(index=df_titanic['Pclass'],columns=df_titanic['Survived']).plot(kind='bar')\n",
    "plt.show()"
   ]
  },
  {
   "cell_type": "code",
   "execution_count": null,
   "id": "e00d3570",
   "metadata": {},
   "outputs": [],
   "source": [
    "plt.rcParams['figure.figsize']=[5,5]\n",
    "pd.crosstab(index=df_titanic['Embarked'],columns=df_titanic['Survived']).plot(kind='bar')\n",
    "plt.show()"
   ]
  },
  {
   "cell_type": "code",
   "execution_count": null,
   "id": "caa6d770",
   "metadata": {},
   "outputs": [],
   "source": [
    "plt.rcParams['figure.figsize']=[5,5]\n",
    "pd.crosstab(index=df_titanic['Sex'],columns=df_titanic['Survived']).plot(kind='bar')\n",
    "plt.show()"
   ]
  },
  {
   "cell_type": "code",
   "execution_count": null,
   "id": "ab0ad644",
   "metadata": {},
   "outputs": [],
   "source": [
    "#Use of plotly"
   ]
  },
  {
   "cell_type": "code",
   "execution_count": null,
   "id": "64445c1e",
   "metadata": {},
   "outputs": [],
   "source": [
    "import plotly.express as px"
   ]
  },
  {
   "cell_type": "code",
   "execution_count": null,
   "id": "288c2bf8",
   "metadata": {},
   "outputs": [],
   "source": [
    "px.histogram(df_titanic,x=\"Age\", color='Embarked')"
   ]
  },
  {
   "cell_type": "code",
   "execution_count": null,
   "id": "e3317fc8",
   "metadata": {},
   "outputs": [],
   "source": [
    "cats=['Embarked','Pclass','SibSp','Parch','Sex']"
   ]
  },
  {
   "cell_type": "code",
   "execution_count": null,
   "id": "55b5ffc5",
   "metadata": {},
   "outputs": [],
   "source": [
    "plt.subplots(figsize=(3,3))\n",
    "for i in cats:\n",
    "    pd.crosstab(df_titanic[i],df_titanic['Survived']).plot(kind='bar')\n",
    "    plt.show()"
   ]
  },
  {
   "cell_type": "code",
   "execution_count": null,
   "id": "8bf045f3",
   "metadata": {},
   "outputs": [],
   "source": [
    "pd.crosstab(index=df_titanic['Embarked'],\n",
    "columns=df_titanic['Sex'],\n",
    "values=df_titanic['Fare'],\n",
    "aggfunc=np.mean)"
   ]
  },
  {
   "cell_type": "code",
   "execution_count": null,
   "id": "ccc59a85",
   "metadata": {},
   "outputs": [],
   "source": [
    "df_titanic.pivot_table(values='Fare',\n",
    "                       index='Embarked',\n",
    "                       columns='Sex',\n",
    "                       \n",
    "                       aggfunc=np.mean)\n",
    "                       \n",
    "                       \n",
    "                       "
   ]
  },
  {
   "cell_type": "code",
   "execution_count": null,
   "id": "1bbada11",
   "metadata": {},
   "outputs": [],
   "source": [
    "titanicplot=sns.FacetGrid(df_titanic,col='Embarked',hue='Sex')\n",
    "titanicplot.map(plt.scatter,'Age','Fare').add_legend()\n",
    "plt.show()"
   ]
  },
  {
   "cell_type": "code",
   "execution_count": null,
   "id": "f7032a0a",
   "metadata": {},
   "outputs": [],
   "source": [
    "titanicplot=sns.FacetGrid(df_titanic,col='Embarked',hue='Pclass')\n",
    "titanicplot.map(plt.scatter,'Age','Fare').add_legend()\n",
    "plt.show()"
   ]
  },
  {
   "cell_type": "code",
   "execution_count": null,
   "id": "c06b5a13",
   "metadata": {},
   "outputs": [],
   "source": [
    "titanicplot=sns.FacetGrid(df_titanic,col='Embarked',hue='Survived')\n",
    "titanicplot.map(plt.scatter,'Age','Fare').add_legend()\n",
    "plt.show()"
   ]
  },
  {
   "cell_type": "code",
   "execution_count": null,
   "id": "bb6c158a",
   "metadata": {},
   "outputs": [],
   "source": [
    "titanicplot=sns.FacetGrid(df_titanic,col='SibSp',hue='Survived')\n",
    "titanicplot.map(plt.scatter,'Age','Fare').add_legend()\n",
    "plt.show()"
   ]
  },
  {
   "cell_type": "code",
   "execution_count": null,
   "id": "ec79ff59",
   "metadata": {},
   "outputs": [],
   "source": [
    "titanicplot=sns.FacetGrid(df_titanic,col='Parch',hue='Survived')\n",
    "titanicplot.map(plt.scatter,'Age','Fare').add_legend()\n",
    "plt.show()"
   ]
  },
  {
   "cell_type": "markdown",
   "id": "b9602063",
   "metadata": {},
   "source": [
    "# Missing Values#"
   ]
  },
  {
   "cell_type": "code",
   "execution_count": null,
   "id": "5500c436",
   "metadata": {},
   "outputs": [],
   "source": [
    "df_titanic.isnull().sum()"
   ]
  },
  {
   "cell_type": "code",
   "execution_count": null,
   "id": "d1ccfdf6",
   "metadata": {},
   "outputs": [],
   "source": [
    "df_titanic.columns"
   ]
  },
  {
   "cell_type": "code",
   "execution_count": null,
   "id": "164cc74f",
   "metadata": {},
   "outputs": [],
   "source": [
    "df_others=df_titanic[['PassengerId','Survived','Pclass','Name','Sex','SibSp',\n",
    "                     'Parch','Ticket','Cabin','Embarked']]"
   ]
  },
  {
   "cell_type": "code",
   "execution_count": null,
   "id": "191ca3b6",
   "metadata": {},
   "outputs": [],
   "source": [
    "((df.isnull().sum()/df.index.size)*100).sort_values(ascending=False)"
   ]
  },
  {
   "cell_type": "code",
   "execution_count": null,
   "id": "fff54221",
   "metadata": {},
   "outputs": [],
   "source": [
    "pip install fancyimpute"
   ]
  },
  {
   "cell_type": "raw",
   "id": "18acd95b",
   "metadata": {},
   "source": [
    "df_titanic.groupby"
   ]
  },
  {
   "cell_type": "code",
   "execution_count": null,
   "id": "0bf7193c",
   "metadata": {},
   "outputs": [],
   "source": [
    "from fancyimpute import KNN,IterativeImputer"
   ]
  },
  {
   "cell_type": "code",
   "execution_count": null,
   "id": "0be0936a",
   "metadata": {},
   "outputs": [],
   "source": [
    "from sklearn.preprocessing import StandardScaler"
   ]
  },
  {
   "cell_type": "code",
   "execution_count": null,
   "id": "82a04600",
   "metadata": {},
   "outputs": [],
   "source": [
    "df_titanic.info()"
   ]
  },
  {
   "cell_type": "code",
   "execution_count": null,
   "id": "f4e51446",
   "metadata": {},
   "outputs": [],
   "source": [
    "num_cols=df_titanic.select_dtypes(np.number)\n",
    "num_cols=num_cols[['Age','Fare']]"
   ]
  },
  {
   "cell_type": "code",
   "execution_count": null,
   "id": "3df245ad",
   "metadata": {},
   "outputs": [],
   "source": [
    "sc=StandardScaler()\n",
    "df_num_sc=pd.DataFrame(sc.fit_transform(num_cols).columns=num_cols.columns)\n",
    "df_num_sc.head()"
   ]
  },
  {
   "cell_type": "code",
   "execution_count": null,
   "id": "8cb8713e",
   "metadata": {},
   "outputs": [],
   "source": [
    "\n",
    "imputer=KNNImputer(n_neighbors=5)\n",
    "df_num_sc['Age']=imputer.fit_transform(pd.DataFrame(df_num_sc['Age']))\n",
    "df_num_sc['Fare']=imputer.fit_transform(pd.DataFrame(df_num_sc['Fare']))"
   ]
  },
  {
   "cell_type": "code",
   "execution_count": null,
   "id": "92c52f9d",
   "metadata": {},
   "outputs": [],
   "source": [
    "#Using inverse_tranformed Method\n"
   ]
  },
  {
   "cell_type": "code",
   "execution_count": null,
   "id": "3e5ef805",
   "metadata": {},
   "outputs": [],
   "source": [
    "df_num=pd.DataFrame(sc.inverse_transform(df_num_sc),columns=df_num_sc.columns)\n",
    "df_num.head()"
   ]
  },
  {
   "cell_type": "code",
   "execution_count": null,
   "id": "d612b043",
   "metadata": {},
   "outputs": [],
   "source": [
    "df_titanic.columns"
   ]
  },
  {
   "cell_type": "code",
   "execution_count": null,
   "id": "d637b13c",
   "metadata": {},
   "outputs": [],
   "source": [
    "df_others=df_titanic[['PassengerId','Survived','Pclass','Name','Sex','SibSp',\n",
    "                     'Parch','Ticket','Cabin','Embarked']]"
   ]
  },
  {
   "cell_type": "code",
   "execution_count": null,
   "id": "b5931097",
   "metadata": {},
   "outputs": [],
   "source": [
    "df_titanic.concat=pd.concat([df_num_,df_others],axis=1)"
   ]
  },
  {
   "cell_type": "code",
   "execution_count": null,
   "id": "5fc0acb7",
   "metadata": {},
   "outputs": [],
   "source": [
    "df_titanic.isnull().sum()"
   ]
  },
  {
   "cell_type": "code",
   "execution_count": null,
   "id": "6f9cef37",
   "metadata": {},
   "outputs": [],
   "source": [
    "from sklearn.impute import SimpleImputer"
   ]
  },
  {
   "cell_type": "code",
   "execution_count": null,
   "id": "4c9da939",
   "metadata": {},
   "outputs": [],
   "source": [
    "imp=SimpleImputer(missing_values=np.nan,strategy='most_frequent')\n",
    "df_titanic['Embarked']=imp.fit_transform(pd.DataFrame(df_titanic['Embarked']))\n"
   ]
  },
  {
   "cell_type": "code",
   "execution_count": null,
   "id": "2a2173d6",
   "metadata": {},
   "outputs": [],
   "source": [
    "df_titanic.isnull().sum()"
   ]
  },
  {
   "cell_type": "code",
   "execution_count": null,
   "id": "0ae514fd",
   "metadata": {},
   "outputs": [],
   "source": [
    "#lets make us eof cabin column with repsect to Pclass"
   ]
  },
  {
   "cell_type": "code",
   "execution_count": null,
   "id": "3eadaa27",
   "metadata": {},
   "outputs": [],
   "source": [
    "df_titanic.columns"
   ]
  },
  {
   "cell_type": "code",
   "execution_count": null,
   "id": "e7e2a460",
   "metadata": {},
   "outputs": [],
   "source": [
    "df_titanic.groupby(\"Pclass\")['Cabin'].describe()"
   ]
  },
  {
   "cell_type": "code",
   "execution_count": null,
   "id": "00bd6d73",
   "metadata": {},
   "outputs": [],
   "source": [
    "#Inference:allthe classes were given cabin;are these values genuine.or they werent collected at all..."
   ]
  },
  {
   "cell_type": "code",
   "execution_count": null,
   "id": "8b6f0553",
   "metadata": {},
   "outputs": [],
   "source": [
    "pd.crosstab(df_titanic['Pclass'],df_titanic['Cabin'])"
   ]
  },
  {
   "cell_type": "code",
   "execution_count": null,
   "id": "06c0a361",
   "metadata": {},
   "outputs": [],
   "source": [
    "df_titanic.drop('Cabin',axis=1,inplace=True)"
   ]
  },
  {
   "cell_type": "code",
   "execution_count": null,
   "id": "8db962ae",
   "metadata": {},
   "outputs": [],
   "source": [
    "df_titanic.groupby(\"Pclass\")['Ticket'].describe()"
   ]
  },
  {
   "cell_type": "code",
   "execution_count": null,
   "id": "6bc455a0",
   "metadata": {},
   "outputs": [],
   "source": [
    "df_g1=df_titanic.groupby(\"Pclass\")\n",
    "df_g1.get_group(3).describe()"
   ]
  },
  {
   "cell_type": "code",
   "execution_count": null,
   "id": "3c194091",
   "metadata": {},
   "outputs": [],
   "source": [
    "df_g1=df_titanic.groupby(\"Pclass\")\n",
    "df_g1.get_group(1).describe()"
   ]
  },
  {
   "cell_type": "code",
   "execution_count": null,
   "id": "82855a43",
   "metadata": {},
   "outputs": [],
   "source": [
    "df_g1.get_group(2).describe()"
   ]
  },
  {
   "cell_type": "code",
   "execution_count": null,
   "id": "658b3dd2",
   "metadata": {},
   "outputs": [],
   "source": [
    "df_g1.get_group(1)"
   ]
  },
  {
   "cell_type": "code",
   "execution_count": null,
   "id": "7cc23568",
   "metadata": {},
   "outputs": [],
   "source": [
    "#Lets look at the age column....."
   ]
  },
  {
   "cell_type": "code",
   "execution_count": null,
   "id": "5ccc7146",
   "metadata": {},
   "outputs": [],
   "source": [
    "df_titanic['Age'].describe()"
   ]
  },
  {
   "cell_type": "code",
   "execution_count": null,
   "id": "8dd5e5e7",
   "metadata": {},
   "outputs": [],
   "source": [
    "bins=[0,15,20,35,55,85]\n",
    "labels=['Young','Teenager','Adults-Young','Adults-Middle','Adults-Old']\n",
    "df_titanic['Age_Group']=pd.cut(df_titanic['Age'],bins=bins,labels=labels,include_lowest=True)#pd.cut will take Age and \n",
    "#cut it into bins......\n",
    "df_titanic.head()"
   ]
  },
  {
   "cell_type": "code",
   "execution_count": null,
   "id": "b0a330b7",
   "metadata": {},
   "outputs": [],
   "source": [
    "titanicplot= sns.FacetGrid(df_titanic,col='Age_Group',hue='Survived')\n",
    "titanicplot.map(plt.scatter,'Age','Fare').add_legend()\n",
    "plt.show()\n",
    "\n",
    "df_AG = df_titanic.groupby(\"Age_Group\")\n",
    "df_AG.get_group('Young')['Survived'].value_counts().plot(kind='bar',color='green')"
   ]
  },
  {
   "cell_type": "code",
   "execution_count": null,
   "id": "7d428cd5",
   "metadata": {},
   "outputs": [],
   "source": [
    "df_AG.get_group('Teenager')['Survived'].value_counts().plot(kind='bar')\n",
    "\n",
    "df_AG.get_group('Adults-Young')['Survived'].value_counts().plot(kind='bar',color='red')\n"
   ]
  },
  {
   "cell_type": "code",
   "execution_count": null,
   "id": "f17b3958",
   "metadata": {},
   "outputs": [],
   "source": [
    "\n",
    "df_AG.get_group('Adults-Middle')['Survived'].value_counts().plot(kind='bar',color='orange')"
   ]
  },
  {
   "cell_type": "code",
   "execution_count": null,
   "id": "15a4ebed",
   "metadata": {},
   "outputs": [],
   "source": [
    "df_AG.get_group('Adults-Old')[['Survived','Sex']].value_counts().plot(kind='bar')"
   ]
  },
  {
   "cell_type": "code",
   "execution_count": null,
   "id": "9f6e7d62",
   "metadata": {},
   "outputs": [],
   "source": [
    "pip-install pandas profiling"
   ]
  },
  {
   "cell_type": "code",
   "execution_count": null,
   "id": "86b6eb4c",
   "metadata": {},
   "outputs": [],
   "source": [
    "from pandas_profiling import ProfileReport\n",
    "#profile=ProfileReport(df_titanic)"
   ]
  },
  {
   "cell_type": "code",
   "execution_count": null,
   "id": "a32a6835",
   "metadata": {},
   "outputs": [],
   "source": [
    "pip install ydata-profiling"
   ]
  },
  {
   "cell_type": "code",
   "execution_count": null,
   "id": "8181c247",
   "metadata": {},
   "outputs": [],
   "source": [
    "from sklearn.impute import SimpleImputer\n"
   ]
  },
  {
   "cell_type": "code",
   "execution_count": null,
   "id": "df5e9ed2",
   "metadata": {},
   "outputs": [],
   "source": [
    "imp=SimpleImputer"
   ]
  },
  {
   "cell_type": "code",
   "execution_count": null,
   "id": "fa71d0ff",
   "metadata": {},
   "outputs": [],
   "source": [
    "df_titanic.columns"
   ]
  },
  {
   "cell_type": "code",
   "execution_count": null,
   "id": "3fd11e4a",
   "metadata": {},
   "outputs": [],
   "source": [
    "df_titanicNew=df_titanic.drop(['PassengerId','Name','Ticket'],axis=1)"
   ]
  },
  {
   "cell_type": "code",
   "execution_count": null,
   "id": "796f2c69",
   "metadata": {},
   "outputs": [],
   "source": [
    "df_titanicNew.head()"
   ]
  },
  {
   "cell_type": "code",
   "execution_count": null,
   "id": "252b1c6c",
   "metadata": {},
   "outputs": [],
   "source": [
    "#Split the data in dame proprotions"
   ]
  },
  {
   "cell_type": "code",
   "execution_count": null,
   "id": "686c4332",
   "metadata": {},
   "outputs": [],
   "source": [
    "df_train=df_titanicNew.iloc[0:train.shape[0],]\n",
    "df_train.shape"
   ]
  },
  {
   "cell_type": "code",
   "execution_count": null,
   "id": "6d3b5f52",
   "metadata": {},
   "outputs": [],
   "source": [
    "df_train.head()"
   ]
  },
  {
   "cell_type": "code",
   "execution_count": null,
   "id": "1ef8e75e",
   "metadata": {},
   "outputs": [],
   "source": [
    "df_test=df_titanicNew.iloc[train.shape[0]:,]\n",
    "df_test.shape"
   ]
  },
  {
   "cell_type": "code",
   "execution_count": null,
   "id": "b575b101",
   "metadata": {},
   "outputs": [],
   "source": [
    "df_test.head()"
   ]
  },
  {
   "cell_type": "code",
   "execution_count": null,
   "id": "23fcc179",
   "metadata": {},
   "outputs": [],
   "source": [
    "df_test.drop(\"Survived\",axois=1,inplace=True)"
   ]
  },
  {
   "cell_type": "code",
   "execution_count": null,
   "id": "93336c70",
   "metadata": {},
   "outputs": [],
   "source": [
    "df_test.shape"
   ]
  },
  {
   "cell_type": "code",
   "execution_count": null,
   "id": "6d725f31",
   "metadata": {},
   "outputs": [],
   "source": [
    "df_train.dtypes"
   ]
  },
  {
   "cell_type": "code",
   "execution_count": null,
   "id": "f1b4f718",
   "metadata": {},
   "outputs": [],
   "source": [
    "sns.pairplot(df_train,vars=['Pclass',\t'Age','SibSp','Parch','Fare'],hue='Survived',\n",
    "             palette=['Red','Green']);\n",
    "plt.show()"
   ]
  },
  {
   "cell_type": "code",
   "execution_count": null,
   "id": "58650e03",
   "metadata": {},
   "outputs": [],
   "source": [
    "#Correlation##"
   ]
  },
  {
   "cell_type": "code",
   "execution_count": null,
   "id": "6934a98f",
   "metadata": {},
   "outputs": [],
   "source": [
    "plt.subplots(figsize=(5,5))\n",
    "sns.heatmap(df_train.corr(), annot=True,fmt='.2f',cmap='plasma',vmin=-1,vmax=1)\n",
    "plt.show()"
   ]
  },
  {
   "cell_type": "code",
   "execution_count": null,
   "id": "82e245b2",
   "metadata": {},
   "outputs": [],
   "source": [
    "#Statistical Test"
   ]
  },
  {
   "cell_type": "code",
   "execution_count": null,
   "id": "ff4407fa",
   "metadata": {},
   "outputs": [],
   "source": [
    "import scipy.stats as st"
   ]
  },
  {
   "cell_type": "code",
   "execution_count": null,
   "id": "b3f282cf",
   "metadata": {},
   "outputs": [],
   "source": [
    "df_train.columns"
   ]
  },
  {
   "cell_type": "code",
   "execution_count": null,
   "id": "9357046a",
   "metadata": {},
   "outputs": [],
   "source": [
    "cor_test= ['Age','Fare']\n",
    "\n",
    "for i in cor_test:\n",
    "  teststats,pvalue  =  st.pearsonr(df_train[i],\n",
    "                                   df_train['Survived'].astype(int))\n",
    "  print(\"Pvalue is\",pvalue)"
   ]
  },
  {
   "cell_type": "code",
   "execution_count": null,
   "id": "68b6984b",
   "metadata": {},
   "outputs": [],
   "source": [
    "#Both age and fare are important"
   ]
  },
  {
   "cell_type": "code",
   "execution_count": null,
   "id": "2af74fd9",
   "metadata": {},
   "outputs": [],
   "source": [
    "#Chi Square Test"
   ]
  },
  {
   "cell_type": "code",
   "execution_count": null,
   "id": "8fd9344c",
   "metadata": {},
   "outputs": [],
   "source": [
    "st.chi2_contingency(pd.crosstab(df_train['Pclass'],df_train['Survived']))"
   ]
  },
  {
   "cell_type": "code",
   "execution_count": null,
   "id": "8da2be5b",
   "metadata": {},
   "outputs": [],
   "source": [
    "chi_test= ['Pclass', 'Sex', 'SibSp', 'Parch','Embarked', 'Age_Group']\n",
    "\n",
    "for i in chi_test:\n",
    "  teststats,pvalue,dof,expected_freq = st.chi2_contingency(pd.crosstab(df_train[i],\n",
    "                                                                      df_train['Survived']))\n",
    "  print(\"Pvalue is\",pvalue)"
   ]
  },
  {
   "cell_type": "markdown",
   "id": "47f0c641",
   "metadata": {},
   "source": [
    "# Model Building"
   ]
  },
  {
   "cell_type": "code",
   "execution_count": null,
   "id": "0cc99837",
   "metadata": {},
   "outputs": [],
   "source": [
    "from sklearn.model_selection import StratifiedKFold\n",
    "\n",
    "from sklearn.tree import DecisionTreeClassifier\n",
    "from sklearn.linear_model import LogisticRegression\n",
    "\n",
    "from sklearn.ensemble import RandomForestClassifier\n",
    "from sklearn.ensemble import AdaBoostClassifier\n",
    "from sklearn.ensemble import GradientBoostingClassifier\n",
    "\n",
    "from xgboost import XGBClassifier\n",
    "\n",
    "from sklearn.neural_network import MLPClassifier"
   ]
  },
  {
   "cell_type": "code",
   "execution_count": null,
   "id": "870da6aa",
   "metadata": {},
   "outputs": [],
   "source": [
    "df_train['Survived']=df_train['Survived'].astype(int)"
   ]
  },
  {
   "cell_type": "code",
   "execution_count": null,
   "id": "656fda88",
   "metadata": {},
   "outputs": [],
   "source": [
    "X=df_train.drop(\"Survived\",axis=1)\n",
    "y=df_train['Survived']"
   ]
  },
  {
   "cell_type": "code",
   "execution_count": null,
   "id": "dbb12f86",
   "metadata": {},
   "outputs": [],
   "source": [
    "X.head()"
   ]
  },
  {
   "cell_type": "code",
   "execution_count": null,
   "id": "a7dc54bb",
   "metadata": {},
   "outputs": [],
   "source": [
    "\n",
    "num_data =X[['Age','Fare']]\n",
    "cat_data =X[['Pclass','Sex','SibSp','Parch','Embarked','Age_Group']]\n"
   ]
  },
  {
   "cell_type": "code",
   "execution_count": null,
   "id": "d0be4a73",
   "metadata": {},
   "outputs": [],
   "source": [
    "ss=StandardScaler()\n",
    "# we are scaling the data for ANN. Without scaling it will give very poor results. Computations becomes easier\n",
    "num_scaled=ss.fit_transform(num_data)\n",
    "\n",
    "num_scaled      = pd.DataFrame(num_scaled,columns=num_data.columns)"
   ]
  },
  {
   "cell_type": "code",
   "execution_count": null,
   "id": "70548196",
   "metadata": {},
   "outputs": [],
   "source": [
    "#Encoding"
   ]
  },
  {
   "cell_type": "code",
   "execution_count": null,
   "id": "f34b8673",
   "metadata": {},
   "outputs": [],
   "source": [
    "cat_dummy=pd.get_dummies(cat_data,drop_first=True)\n",
    "cat_dummy.head()"
   ]
  },
  {
   "cell_type": "code",
   "execution_count": null,
   "id": "d41d5c65",
   "metadata": {},
   "outputs": [],
   "source": [
    "#Concatenation"
   ]
  },
  {
   "cell_type": "code",
   "execution_count": null,
   "id": "b19ef37c",
   "metadata": {},
   "outputs": [],
   "source": [
    "X_scaled=pd.concat([num_scaled,cat_dummy],axis=1)\n",
    "X_scales.head()"
   ]
  },
  {
   "cell_type": "code",
   "execution_count": null,
   "id": "a001ebfd",
   "metadata": {},
   "outputs": [],
   "source": [
    "num_data_test =df_test[['Age','Fare']]\n",
    "cat_data_test =df_test[['Pclass','Sex','SibSp','Parch','Embarked','Age_Group']]"
   ]
  },
  {
   "cell_type": "code",
   "execution_count": null,
   "id": "c9d3068b",
   "metadata": {},
   "outputs": [],
   "source": [
    "num_scaled_test=ss.transform(num_data_test)\n",
    "num_scaled_test = pd.DataFrame(num_scaled_test,columns=num_data_test.columns)"
   ]
  },
  {
   "cell_type": "code",
   "execution_count": null,
   "id": "3c7feced",
   "metadata": {},
   "outputs": [],
   "source": [
    "num_scaled_test"
   ]
  },
  {
   "cell_type": "code",
   "execution_count": null,
   "id": "13a06a57",
   "metadata": {},
   "outputs": [],
   "source": [
    "label_encoder = LabelEncoder()\n",
    "encoded_data = label_encoder.fit_transform(data)\n",
    "print(encoded_data)"
   ]
  },
  {
   "cell_type": "code",
   "execution_count": null,
   "id": "927eec14",
   "metadata": {},
   "outputs": [],
   "source": [
    "cat_dummy_test.reset_index(inplace=True,drop=True)"
   ]
  },
  {
   "cell_type": "code",
   "execution_count": null,
   "id": "b7136a8c",
   "metadata": {},
   "outputs": [],
   "source": [
    "cat_dummy_test.head()"
   ]
  },
  {
   "cell_type": "markdown",
   "id": "b484acaa",
   "metadata": {},
   "source": [
    "# Concatenating data(Numerical and Categorical) for Test Dataset"
   ]
  },
  {
   "cell_type": "code",
   "execution_count": null,
   "id": "3ae747b6",
   "metadata": {},
   "outputs": [],
   "source": [
    "df_test_scaled=pd.concat([num_scaled_test,cat_dummy_test],axis=1)\n",
    "df_test_scaled.head()"
   ]
  },
  {
   "cell_type": "code",
   "execution_count": null,
   "id": "e3763f61",
   "metadata": {},
   "outputs": [],
   "source": [
    "X.dtypes"
   ]
  },
  {
   "cell_type": "markdown",
   "id": "3094f24a",
   "metadata": {},
   "source": [
    "# Encoding for  non scaled data"
   ]
  },
  {
   "cell_type": "code",
   "execution_count": null,
   "id": "9619e3f6",
   "metadata": {},
   "outputs": [],
   "source": [
    "X=pd.get_dummies(X,drop_first=True)"
   ]
  },
  {
   "cell_type": "code",
   "execution_count": null,
   "id": "baa80faa",
   "metadata": {},
   "outputs": [],
   "source": [
    "X.head()\n",
    "X.shape()"
   ]
  },
  {
   "cell_type": "code",
   "execution_count": null,
   "id": "45541e4d",
   "metadata": {},
   "outputs": [],
   "source": [
    "df_test.head()"
   ]
  },
  {
   "cell_type": "code",
   "execution_count": null,
   "id": "935c99ab",
   "metadata": {},
   "outputs": [],
   "source": [
    "Kfold=StratifiedKfold(n_splits=5,\n",
    "                     shuffle=True,\n",
    "                     random_state=0)"
   ]
  },
  {
   "cell_type": "code",
   "execution_count": null,
   "id": "4a8fc4cc",
   "metadata": {},
   "outputs": [],
   "source": [
    "#Logistic regression"
   ]
  },
  {
   "cell_type": "code",
   "execution_count": null,
   "id": "c80b7d64",
   "metadata": {},
   "outputs": [],
   "source": [
    "lgr=LogisticRegression"
   ]
  },
  {
   "cell_type": "code",
   "execution_count": 563,
   "id": "1f81f5d1",
   "metadata": {},
   "outputs": [
    {
     "ename": "NameError",
     "evalue": "name 'Kfold' is not defined",
     "output_type": "error",
     "traceback": [
      "\u001b[1;31m---------------------------------------------------------------------------\u001b[0m",
      "\u001b[1;31mNameError\u001b[0m                                 Traceback (most recent call last)",
      "Cell \u001b[1;32mIn[563], line 3\u001b[0m\n\u001b[0;32m      1\u001b[0m y_pred\u001b[38;5;241m=\u001b[39m[]\n\u001b[1;32m----> 3\u001b[0m \u001b[38;5;28;01mfor\u001b[39;00m train_index,test_index \u001b[38;5;129;01min\u001b[39;00m \u001b[43mKfold\u001b[49m\u001b[38;5;241m.\u001b[39msplit(X,y):\n\u001b[0;32m      4\u001b[0m   x_train \u001b[38;5;241m=\u001b[39m X\u001b[38;5;241m.\u001b[39mloc[train_index]\n\u001b[0;32m      5\u001b[0m   y_train \u001b[38;5;241m=\u001b[39m y\u001b[38;5;241m.\u001b[39mloc[train_index]\n",
      "\u001b[1;31mNameError\u001b[0m: name 'Kfold' is not defined"
     ]
    }
   ],
   "source": [
    "y_pred=[]\n",
    "\n",
    "for train_index,test_index in Kfold.split(X,y):\n",
    "  x_train = X.loc[train_index]\n",
    "  y_train = y.loc[train_index]\n",
    "\n",
    "\n",
    "  lgr.fit(x_train,y_train)\n",
    "  y_pred.append(dt.predict(df_test))"
   ]
  },
  {
   "cell_type": "code",
   "execution_count": 562,
   "id": "ce7ee719",
   "metadata": {},
   "outputs": [],
   "source": [
    "y_log=pd.DataFrame(y_pred).T.mode(axis=1)"
   ]
  },
  {
   "cell_type": "code",
   "execution_count": 560,
   "id": "d0d8016b",
   "metadata": {},
   "outputs": [
    {
     "ename": "NameError",
     "evalue": "name 'test' is not defined",
     "output_type": "error",
     "traceback": [
      "\u001b[1;31m---------------------------------------------------------------------------\u001b[0m",
      "\u001b[1;31mNameError\u001b[0m                                 Traceback (most recent call last)",
      "Cell \u001b[1;32mIn[560], line 1\u001b[0m\n\u001b[1;32m----> 1\u001b[0m model_prediction\u001b[38;5;241m=\u001b[39mpd\u001b[38;5;241m.\u001b[39mDataFrame({\u001b[38;5;124m\"\u001b[39m\u001b[38;5;124mPassengersId\u001b[39m\u001b[38;5;124m\"\u001b[39m:\u001b[43mtest\u001b[49m\u001b[38;5;241m.\u001b[39mPassengerId,\n\u001b[0;32m      2\u001b[0m                               \u001b[38;5;124m\"\u001b[39m\u001b[38;5;124mSurvived\u001b[39m\u001b[38;5;124m\"\u001b[39m:test\u001b[38;5;241m.\u001b[39mSex})\n\u001b[0;32m      3\u001b[0m model_prediction\n",
      "\u001b[1;31mNameError\u001b[0m: name 'test' is not defined"
     ]
    }
   ],
   "source": [
    "model_prediction=pd.DataFrame({\"PassengersId\":test.PassengerId,\n",
    "                              \"Survived\":test.Sex})\n",
    "model_prediction"
   ]
  },
  {
   "cell_type": "code",
   "execution_count": 559,
   "id": "897a40d5",
   "metadata": {},
   "outputs": [
    {
     "ename": "NameError",
     "evalue": "name 'model_prediction' is not defined",
     "output_type": "error",
     "traceback": [
      "\u001b[1;31m---------------------------------------------------------------------------\u001b[0m",
      "\u001b[1;31mNameError\u001b[0m                                 Traceback (most recent call last)",
      "Cell \u001b[1;32mIn[559], line 1\u001b[0m\n\u001b[1;32m----> 1\u001b[0m \u001b[43mmodel_prediction\u001b[49m\u001b[38;5;241m.\u001b[39mto_csv(\u001b[38;5;124m\"\u001b[39m\u001b[38;5;124mDecisionTree.csv\u001b[39m\u001b[38;5;124m\"\u001b[39m,index\u001b[38;5;241m=\u001b[39m\u001b[38;5;28;01mFalse\u001b[39;00m)\n",
      "\u001b[1;31mNameError\u001b[0m: name 'model_prediction' is not defined"
     ]
    }
   ],
   "source": [
    "model_prediction.to_csv(\"DecisionTree.csv\",index=False)"
   ]
  },
  {
   "cell_type": "code",
   "execution_count": null,
   "id": "74998695",
   "metadata": {},
   "outputs": [],
   "source": [
    "model_prediction['Survived']=y_log"
   ]
  },
  {
   "cell_type": "code",
   "execution_count": null,
   "id": "6ba1c6ba",
   "metadata": {},
   "outputs": [],
   "source": [
    "model_prediction.head()"
   ]
  },
  {
   "cell_type": "code",
   "execution_count": null,
   "id": "9f55ee4d",
   "metadata": {},
   "outputs": [],
   "source": [
    "model_prediction.to_csv(\"logisticRegression.csv\",index=False)"
   ]
  }
 ],
 "metadata": {
  "kernelspec": {
   "display_name": "Python 3 (ipykernel)",
   "language": "python",
   "name": "python3"
  },
  "language_info": {
   "codemirror_mode": {
    "name": "ipython",
    "version": 3
   },
   "file_extension": ".py",
   "mimetype": "text/x-python",
   "name": "python",
   "nbconvert_exporter": "python",
   "pygments_lexer": "ipython3",
   "version": "3.10.9"
  }
 },
 "nbformat": 4,
 "nbformat_minor": 5
}
