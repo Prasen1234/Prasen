{
 "cells": [
  {
   "cell_type": "code",
   "execution_count": 1,
   "id": "fb7f432d",
   "metadata": {},
   "outputs": [],
   "source": [
    "import pandas as pd\n",
    "import numpy as np\n",
    "import seaborn as sns\n",
    "import matplotlib.pyplot as plt\n",
    "%matplotlib inline\n",
    "import warnings\n",
    "warnings.filterwarnings('ignore')\n",
    "from sklearn.model_selection import KFold\n",
    "from sklearn.model_selection import cross_val_score\n",
    "from sklearn.linear_model import LogisticRegression\n",
    "from sklearn.preprocessing import LabelEncoder\n",
    "from sklearn.preprocessing import StandardScaler\n",
    "from sklearn.model_selection import StratifiedKFold\n"
   ]
  },
  {
   "cell_type": "code",
   "execution_count": 2,
   "id": "35f03940",
   "metadata": {},
   "outputs": [],
   "source": [
    "plt.rcParams['figure.figsize']=[15,8]"
   ]
  },
  {
   "cell_type": "code",
   "execution_count": 3,
   "id": "20abf070",
   "metadata": {},
   "outputs": [
    {
     "data": {
      "text/html": [
       "<div>\n",
       "<style scoped>\n",
       "    .dataframe tbody tr th:only-of-type {\n",
       "        vertical-align: middle;\n",
       "    }\n",
       "\n",
       "    .dataframe tbody tr th {\n",
       "        vertical-align: top;\n",
       "    }\n",
       "\n",
       "    .dataframe thead th {\n",
       "        text-align: right;\n",
       "    }\n",
       "</style>\n",
       "<table border=\"1\" class=\"dataframe\">\n",
       "  <thead>\n",
       "    <tr style=\"text-align: right;\">\n",
       "      <th></th>\n",
       "      <th>age</th>\n",
       "      <th>workclass</th>\n",
       "      <th>education</th>\n",
       "      <th>education-num</th>\n",
       "      <th>marital-status</th>\n",
       "      <th>occupation</th>\n",
       "      <th>relationship</th>\n",
       "      <th>race</th>\n",
       "      <th>sex</th>\n",
       "      <th>capital-gain</th>\n",
       "      <th>capital-loss</th>\n",
       "      <th>hours-per-week</th>\n",
       "      <th>native-country</th>\n",
       "      <th>Expense</th>\n",
       "    </tr>\n",
       "  </thead>\n",
       "  <tbody>\n",
       "    <tr>\n",
       "      <th>0</th>\n",
       "      <td>39</td>\n",
       "      <td>Self-emp-inc</td>\n",
       "      <td>Bachelors</td>\n",
       "      <td>13</td>\n",
       "      <td>Married-civ-spouse</td>\n",
       "      <td>Exec-managerial</td>\n",
       "      <td>Husband</td>\n",
       "      <td>White</td>\n",
       "      <td>Male</td>\n",
       "      <td>15024</td>\n",
       "      <td>0</td>\n",
       "      <td>50</td>\n",
       "      <td>United-States</td>\n",
       "      <td>&gt;50K</td>\n",
       "    </tr>\n",
       "    <tr>\n",
       "      <th>1</th>\n",
       "      <td>20</td>\n",
       "      <td>Private</td>\n",
       "      <td>Some-college</td>\n",
       "      <td>10</td>\n",
       "      <td>Never-married</td>\n",
       "      <td>Other-service</td>\n",
       "      <td>Own-child</td>\n",
       "      <td>White</td>\n",
       "      <td>Male</td>\n",
       "      <td>0</td>\n",
       "      <td>0</td>\n",
       "      <td>40</td>\n",
       "      <td>United-States</td>\n",
       "      <td>&lt;=50K</td>\n",
       "    </tr>\n",
       "    <tr>\n",
       "      <th>2</th>\n",
       "      <td>50</td>\n",
       "      <td>Private</td>\n",
       "      <td>Doctorate</td>\n",
       "      <td>16</td>\n",
       "      <td>Married-civ-spouse</td>\n",
       "      <td>Prof-specialty</td>\n",
       "      <td>Husband</td>\n",
       "      <td>White</td>\n",
       "      <td>Male</td>\n",
       "      <td>0</td>\n",
       "      <td>1902</td>\n",
       "      <td>65</td>\n",
       "      <td>United-States</td>\n",
       "      <td>&gt;50K</td>\n",
       "    </tr>\n",
       "    <tr>\n",
       "      <th>3</th>\n",
       "      <td>38</td>\n",
       "      <td>State-gov</td>\n",
       "      <td>HS-grad</td>\n",
       "      <td>9</td>\n",
       "      <td>Married-civ-spouse</td>\n",
       "      <td>Prof-specialty</td>\n",
       "      <td>Wife</td>\n",
       "      <td>White</td>\n",
       "      <td>Female</td>\n",
       "      <td>0</td>\n",
       "      <td>0</td>\n",
       "      <td>40</td>\n",
       "      <td>United-States</td>\n",
       "      <td>&gt;50K</td>\n",
       "    </tr>\n",
       "    <tr>\n",
       "      <th>4</th>\n",
       "      <td>23</td>\n",
       "      <td>Local-gov</td>\n",
       "      <td>Bachelors</td>\n",
       "      <td>13</td>\n",
       "      <td>Never-married</td>\n",
       "      <td>Prof-specialty</td>\n",
       "      <td>Own-child</td>\n",
       "      <td>White</td>\n",
       "      <td>Female</td>\n",
       "      <td>0</td>\n",
       "      <td>0</td>\n",
       "      <td>60</td>\n",
       "      <td>United-States</td>\n",
       "      <td>&lt;=50K</td>\n",
       "    </tr>\n",
       "  </tbody>\n",
       "</table>\n",
       "</div>"
      ],
      "text/plain": [
       "   age      workclass      education  education-num       marital-status  \\\n",
       "0   39   Self-emp-inc      Bachelors             13   Married-civ-spouse   \n",
       "1   20        Private   Some-college             10        Never-married   \n",
       "2   50        Private      Doctorate             16   Married-civ-spouse   \n",
       "3   38      State-gov        HS-grad              9   Married-civ-spouse   \n",
       "4   23      Local-gov      Bachelors             13        Never-married   \n",
       "\n",
       "         occupation relationship    race      sex  capital-gain  capital-loss  \\\n",
       "0   Exec-managerial      Husband   White     Male         15024             0   \n",
       "1     Other-service    Own-child   White     Male             0             0   \n",
       "2    Prof-specialty      Husband   White     Male             0          1902   \n",
       "3    Prof-specialty         Wife   White   Female             0             0   \n",
       "4    Prof-specialty    Own-child   White   Female             0             0   \n",
       "\n",
       "   hours-per-week  native-country Expense  \n",
       "0              50   United-States    >50K  \n",
       "1              40   United-States   <=50K  \n",
       "2              65   United-States    >50K  \n",
       "3              40   United-States    >50K  \n",
       "4              60   United-States   <=50K  "
      ]
     },
     "execution_count": 3,
     "metadata": {},
     "output_type": "execute_result"
    }
   ],
   "source": [
    "df_expenses=pd.read_csv(\"Expense.csv\")\n",
    "df_expenses.head()"
   ]
  },
  {
   "cell_type": "code",
   "execution_count": 4,
   "id": "7c752f49",
   "metadata": {},
   "outputs": [
    {
     "data": {
      "text/plain": [
       "(5000, 14)"
      ]
     },
     "execution_count": 4,
     "metadata": {},
     "output_type": "execute_result"
    }
   ],
   "source": [
    "df_expenses.shape"
   ]
  },
  {
   "cell_type": "code",
   "execution_count": 5,
   "id": "a5d97e80",
   "metadata": {},
   "outputs": [
    {
     "name": "stdout",
     "output_type": "stream",
     "text": [
      "<class 'pandas.core.frame.DataFrame'>\n",
      "RangeIndex: 5000 entries, 0 to 4999\n",
      "Data columns (total 14 columns):\n",
      " #   Column          Non-Null Count  Dtype \n",
      "---  ------          --------------  ----- \n",
      " 0   age             5000 non-null   int64 \n",
      " 1   workclass       5000 non-null   object\n",
      " 2   education       5000 non-null   object\n",
      " 3   education-num   5000 non-null   int64 \n",
      " 4   marital-status  5000 non-null   object\n",
      " 5   occupation      5000 non-null   object\n",
      " 6   relationship    5000 non-null   object\n",
      " 7   race            5000 non-null   object\n",
      " 8   sex             5000 non-null   object\n",
      " 9   capital-gain    5000 non-null   int64 \n",
      " 10  capital-loss    5000 non-null   int64 \n",
      " 11  hours-per-week  5000 non-null   int64 \n",
      " 12  native-country  5000 non-null   object\n",
      " 13  Expense         5000 non-null   object\n",
      "dtypes: int64(5), object(9)\n",
      "memory usage: 547.0+ KB\n"
     ]
    }
   ],
   "source": [
    "df_expenses.info()"
   ]
  },
  {
   "cell_type": "code",
   "execution_count": 6,
   "id": "a57b0302",
   "metadata": {},
   "outputs": [
    {
     "data": {
      "text/html": [
       "<div>\n",
       "<style scoped>\n",
       "    .dataframe tbody tr th:only-of-type {\n",
       "        vertical-align: middle;\n",
       "    }\n",
       "\n",
       "    .dataframe tbody tr th {\n",
       "        vertical-align: top;\n",
       "    }\n",
       "\n",
       "    .dataframe thead th {\n",
       "        text-align: right;\n",
       "    }\n",
       "</style>\n",
       "<table border=\"1\" class=\"dataframe\">\n",
       "  <thead>\n",
       "    <tr style=\"text-align: right;\">\n",
       "      <th></th>\n",
       "      <th>age</th>\n",
       "      <th>education-num</th>\n",
       "      <th>capital-gain</th>\n",
       "      <th>capital-loss</th>\n",
       "      <th>hours-per-week</th>\n",
       "    </tr>\n",
       "  </thead>\n",
       "  <tbody>\n",
       "    <tr>\n",
       "      <th>count</th>\n",
       "      <td>5000.000000</td>\n",
       "      <td>5000.000000</td>\n",
       "      <td>5000.000000</td>\n",
       "      <td>5000.000000</td>\n",
       "      <td>5000.000000</td>\n",
       "    </tr>\n",
       "    <tr>\n",
       "      <th>mean</th>\n",
       "      <td>38.656000</td>\n",
       "      <td>10.065000</td>\n",
       "      <td>1104.080000</td>\n",
       "      <td>90.032800</td>\n",
       "      <td>40.566200</td>\n",
       "    </tr>\n",
       "    <tr>\n",
       "      <th>std</th>\n",
       "      <td>13.698292</td>\n",
       "      <td>2.558141</td>\n",
       "      <td>7579.674371</td>\n",
       "      <td>404.168991</td>\n",
       "      <td>12.154191</td>\n",
       "    </tr>\n",
       "    <tr>\n",
       "      <th>min</th>\n",
       "      <td>17.000000</td>\n",
       "      <td>1.000000</td>\n",
       "      <td>0.000000</td>\n",
       "      <td>0.000000</td>\n",
       "      <td>1.000000</td>\n",
       "    </tr>\n",
       "    <tr>\n",
       "      <th>25%</th>\n",
       "      <td>28.000000</td>\n",
       "      <td>9.000000</td>\n",
       "      <td>0.000000</td>\n",
       "      <td>0.000000</td>\n",
       "      <td>40.000000</td>\n",
       "    </tr>\n",
       "    <tr>\n",
       "      <th>50%</th>\n",
       "      <td>37.000000</td>\n",
       "      <td>10.000000</td>\n",
       "      <td>0.000000</td>\n",
       "      <td>0.000000</td>\n",
       "      <td>40.000000</td>\n",
       "    </tr>\n",
       "    <tr>\n",
       "      <th>75%</th>\n",
       "      <td>48.000000</td>\n",
       "      <td>12.000000</td>\n",
       "      <td>0.000000</td>\n",
       "      <td>0.000000</td>\n",
       "      <td>45.000000</td>\n",
       "    </tr>\n",
       "    <tr>\n",
       "      <th>max</th>\n",
       "      <td>90.000000</td>\n",
       "      <td>16.000000</td>\n",
       "      <td>99999.000000</td>\n",
       "      <td>3004.000000</td>\n",
       "      <td>99.000000</td>\n",
       "    </tr>\n",
       "  </tbody>\n",
       "</table>\n",
       "</div>"
      ],
      "text/plain": [
       "               age  education-num  capital-gain  capital-loss  hours-per-week\n",
       "count  5000.000000    5000.000000   5000.000000   5000.000000     5000.000000\n",
       "mean     38.656000      10.065000   1104.080000     90.032800       40.566200\n",
       "std      13.698292       2.558141   7579.674371    404.168991       12.154191\n",
       "min      17.000000       1.000000      0.000000      0.000000        1.000000\n",
       "25%      28.000000       9.000000      0.000000      0.000000       40.000000\n",
       "50%      37.000000      10.000000      0.000000      0.000000       40.000000\n",
       "75%      48.000000      12.000000      0.000000      0.000000       45.000000\n",
       "max      90.000000      16.000000  99999.000000   3004.000000       99.000000"
      ]
     },
     "execution_count": 6,
     "metadata": {},
     "output_type": "execute_result"
    }
   ],
   "source": [
    "df_expenses.describe()"
   ]
  },
  {
   "cell_type": "code",
   "execution_count": 7,
   "id": "f400c595",
   "metadata": {},
   "outputs": [
    {
     "data": {
      "text/plain": [
       " Private             3444\n",
       " Self-emp-not-inc     385\n",
       " ?                    320\n",
       " Local-gov            318\n",
       " State-gov            199\n",
       " Self-emp-inc         184\n",
       " Federal-gov          148\n",
       " Without-pay            1\n",
       " Never-worked           1\n",
       "Name: workclass, dtype: int64"
      ]
     },
     "execution_count": 7,
     "metadata": {},
     "output_type": "execute_result"
    }
   ],
   "source": [
    "df_expenses['workclass'].value_counts()#?here is a variaable....,take it as missing value,can be \n",
    "#considered as a category"
   ]
  },
  {
   "cell_type": "code",
   "execution_count": 8,
   "id": "f5f6df1e",
   "metadata": {},
   "outputs": [
    {
     "data": {
      "text/plain": [
       "0        Self-emp-inc\n",
       "1             Private\n",
       "2             Private\n",
       "3           State-gov\n",
       "4           Local-gov\n",
       "            ...      \n",
       "4995          Private\n",
       "4996          Private\n",
       "4997          Private\n",
       "4998          Private\n",
       "4999          Private\n",
       "Name: workclass, Length: 5000, dtype: object"
      ]
     },
     "execution_count": 8,
     "metadata": {},
     "output_type": "execute_result"
    }
   ],
   "source": [
    "df_expenses['workclass']"
   ]
  },
  {
   "cell_type": "code",
   "execution_count": 9,
   "id": "b5df5bf6",
   "metadata": {},
   "outputs": [
    {
     "name": "stdout",
     "output_type": "stream",
     "text": [
      " Private             3444\n",
      " Self-emp-not-inc     385\n",
      " ?                    320\n",
      " Local-gov            318\n",
      " State-gov            199\n",
      " Self-emp-inc         184\n",
      " Federal-gov          148\n",
      " Without-pay            1\n",
      " Never-worked           1\n",
      "Name: workclass, dtype: int64\n",
      " HS-grad         1602\n",
      " Some-college    1142\n",
      " Bachelors        823\n",
      " Masters          259\n",
      " Assoc-voc        214\n",
      " 11th             179\n",
      " Assoc-acdm       157\n",
      " 10th             156\n",
      " 7th-8th          105\n",
      " Prof-school       90\n",
      " 9th               84\n",
      " 12th              57\n",
      " Doctorate         56\n",
      " 5th-6th           46\n",
      " 1st-4th           25\n",
      " Preschool          5\n",
      "Name: education, dtype: int64\n",
      " Married-civ-spouse       2294\n",
      " Never-married            1643\n",
      " Divorced                  683\n",
      " Separated                 159\n",
      " Widowed                   150\n",
      " Married-spouse-absent      67\n",
      " Married-AF-spouse           4\n",
      "Name: marital-status, dtype: int64\n",
      " Craft-repair         630\n",
      " Prof-specialty       619\n",
      " Exec-managerial      609\n",
      " Sales                597\n",
      " Adm-clerical         588\n",
      " Other-service        489\n",
      " Machine-op-inspct    323\n",
      " ?                    321\n",
      " Transport-moving     251\n",
      " Handlers-cleaners    191\n",
      " Farming-fishing      140\n",
      " Tech-support         122\n",
      " Protective-serv       99\n",
      " Priv-house-serv       20\n",
      " Armed-Forces           1\n",
      "Name: occupation, dtype: int64\n",
      " Husband           2026\n",
      " Not-in-family     1262\n",
      " Own-child          797\n",
      " Unmarried          512\n",
      " Wife               242\n",
      " Other-relative     161\n",
      "Name: relationship, dtype: int64\n",
      " White                 4271\n",
      " Black                  490\n",
      " Asian-Pac-Islander     153\n",
      " Amer-Indian-Eskimo      51\n",
      " Other                   35\n",
      "Name: race, dtype: int64\n",
      " Male      3374\n",
      " Female    1626\n",
      "Name: sex, dtype: int64\n",
      " United-States                 4459\n",
      " Mexico                         102\n",
      " ?                               98\n",
      " Canada                          31\n",
      " Germany                         25\n",
      " Philippines                     22\n",
      " Puerto-Rico                     17\n",
      " El-Salvador                     17\n",
      " China                           16\n",
      " England                         16\n",
      " Cuba                            15\n",
      " Jamaica                         14\n",
      " Dominican-Republic              13\n",
      " Japan                           12\n",
      " Vietnam                         12\n",
      " Poland                          11\n",
      " Italy                           11\n",
      " India                           10\n",
      " Taiwan                          10\n",
      " Guatemala                       10\n",
      " Iran                             9\n",
      " Greece                           9\n",
      " South                            9\n",
      " Ireland                          5\n",
      " Columbia                         5\n",
      " Haiti                            5\n",
      " Nicaragua                        5\n",
      " Portugal                         4\n",
      " Trinadad&Tobago                  4\n",
      " Cambodia                         4\n",
      " Ecuador                          3\n",
      " Peru                             3\n",
      " Outlying-US(Guam-USVI-etc)       3\n",
      " Scotland                         2\n",
      " France                           2\n",
      " Yugoslavia                       2\n",
      " Laos                             2\n",
      " Honduras                         1\n",
      " Hong                             1\n",
      " Thailand                         1\n",
      "Name: native-country, dtype: int64\n",
      " <=50K    3776\n",
      " >50K     1224\n",
      "Name: Expense, dtype: int64\n"
     ]
    }
   ],
   "source": [
    "cols=list(df_expenses.select_dtypes(include='object').columns)\n",
    "for i in cols:\n",
    "    print(df_expenses[i].value_counts())#\n",
    "    "
   ]
  },
  {
   "cell_type": "code",
   "execution_count": 10,
   "id": "8b864f85",
   "metadata": {},
   "outputs": [],
   "source": [
    "#Here one-hot encoding,frequency and target encoding can be applied since there is no order...."
   ]
  },
  {
   "cell_type": "code",
   "execution_count": 11,
   "id": "b0e5a490",
   "metadata": {},
   "outputs": [
    {
     "data": {
      "text/html": [
       "<div>\n",
       "<style scoped>\n",
       "    .dataframe tbody tr th:only-of-type {\n",
       "        vertical-align: middle;\n",
       "    }\n",
       "\n",
       "    .dataframe tbody tr th {\n",
       "        vertical-align: top;\n",
       "    }\n",
       "\n",
       "    .dataframe thead th {\n",
       "        text-align: right;\n",
       "    }\n",
       "</style>\n",
       "<table border=\"1\" class=\"dataframe\">\n",
       "  <thead>\n",
       "    <tr style=\"text-align: right;\">\n",
       "      <th></th>\n",
       "      <th>count</th>\n",
       "      <th>mean</th>\n",
       "      <th>std</th>\n",
       "      <th>min</th>\n",
       "      <th>25%</th>\n",
       "      <th>50%</th>\n",
       "      <th>75%</th>\n",
       "      <th>max</th>\n",
       "    </tr>\n",
       "  </thead>\n",
       "  <tbody>\n",
       "    <tr>\n",
       "      <th>age</th>\n",
       "      <td>5000.0</td>\n",
       "      <td>38.6560</td>\n",
       "      <td>13.698292</td>\n",
       "      <td>17.0</td>\n",
       "      <td>28.0</td>\n",
       "      <td>37.0</td>\n",
       "      <td>48.0</td>\n",
       "      <td>90.0</td>\n",
       "    </tr>\n",
       "    <tr>\n",
       "      <th>education-num</th>\n",
       "      <td>5000.0</td>\n",
       "      <td>10.0650</td>\n",
       "      <td>2.558141</td>\n",
       "      <td>1.0</td>\n",
       "      <td>9.0</td>\n",
       "      <td>10.0</td>\n",
       "      <td>12.0</td>\n",
       "      <td>16.0</td>\n",
       "    </tr>\n",
       "    <tr>\n",
       "      <th>capital-gain</th>\n",
       "      <td>5000.0</td>\n",
       "      <td>1104.0800</td>\n",
       "      <td>7579.674371</td>\n",
       "      <td>0.0</td>\n",
       "      <td>0.0</td>\n",
       "      <td>0.0</td>\n",
       "      <td>0.0</td>\n",
       "      <td>99999.0</td>\n",
       "    </tr>\n",
       "    <tr>\n",
       "      <th>capital-loss</th>\n",
       "      <td>5000.0</td>\n",
       "      <td>90.0328</td>\n",
       "      <td>404.168991</td>\n",
       "      <td>0.0</td>\n",
       "      <td>0.0</td>\n",
       "      <td>0.0</td>\n",
       "      <td>0.0</td>\n",
       "      <td>3004.0</td>\n",
       "    </tr>\n",
       "    <tr>\n",
       "      <th>hours-per-week</th>\n",
       "      <td>5000.0</td>\n",
       "      <td>40.5662</td>\n",
       "      <td>12.154191</td>\n",
       "      <td>1.0</td>\n",
       "      <td>40.0</td>\n",
       "      <td>40.0</td>\n",
       "      <td>45.0</td>\n",
       "      <td>99.0</td>\n",
       "    </tr>\n",
       "  </tbody>\n",
       "</table>\n",
       "</div>"
      ],
      "text/plain": [
       "                 count       mean          std   min   25%   50%   75%  \\\n",
       "age             5000.0    38.6560    13.698292  17.0  28.0  37.0  48.0   \n",
       "education-num   5000.0    10.0650     2.558141   1.0   9.0  10.0  12.0   \n",
       "capital-gain    5000.0  1104.0800  7579.674371   0.0   0.0   0.0   0.0   \n",
       "capital-loss    5000.0    90.0328   404.168991   0.0   0.0   0.0   0.0   \n",
       "hours-per-week  5000.0    40.5662    12.154191   1.0  40.0  40.0  45.0   \n",
       "\n",
       "                    max  \n",
       "age                90.0  \n",
       "education-num      16.0  \n",
       "capital-gain    99999.0  \n",
       "capital-loss     3004.0  \n",
       "hours-per-week     99.0  "
      ]
     },
     "execution_count": 11,
     "metadata": {},
     "output_type": "execute_result"
    }
   ],
   "source": [
    "df_expenses.describe().T"
   ]
  },
  {
   "cell_type": "code",
   "execution_count": 12,
   "id": "419a090c",
   "metadata": {},
   "outputs": [
    {
     "name": "stdout",
     "output_type": "stream",
     "text": [
      "Requirement already satisfied: pandas_profiling in c:\\users\\user\\.conda\\lib\\site-packages (3.6.6)\n",
      "Requirement already satisfied: ydata-profiling in c:\\users\\user\\.conda\\lib\\site-packages (from pandas_profiling) (4.6.0)\n",
      "Requirement already satisfied: wordcloud>=1.9.1 in c:\\users\\user\\.conda\\lib\\site-packages (from ydata-profiling->pandas_profiling) (1.9.2)\n",
      "Requirement already satisfied: visions[type_image_path]==0.7.5 in c:\\users\\user\\.conda\\lib\\site-packages (from ydata-profiling->pandas_profiling) (0.7.5)\n",
      "Requirement already satisfied: phik<0.13,>=0.11.1 in c:\\users\\user\\.conda\\lib\\site-packages (from ydata-profiling->pandas_profiling) (0.12.3)\n",
      "Requirement already satisfied: seaborn<0.13,>=0.10.1 in c:\\users\\user\\.conda\\lib\\site-packages (from ydata-profiling->pandas_profiling) (0.12.2)\n",
      "Requirement already satisfied: numba<0.59.0,>=0.56.0 in c:\\users\\user\\.conda\\lib\\site-packages (from ydata-profiling->pandas_profiling) (0.56.4)\n",
      "Requirement already satisfied: jinja2<3.2,>=2.11.1 in c:\\users\\user\\.conda\\lib\\site-packages (from ydata-profiling->pandas_profiling) (3.1.2)\n",
      "Requirement already satisfied: pydantic<2,>=1.8.1 in c:\\users\\user\\.conda\\lib\\site-packages (from ydata-profiling->pandas_profiling) (1.10.13)\n",
      "Requirement already satisfied: multimethod<2,>=1.4 in c:\\users\\user\\.conda\\lib\\site-packages (from ydata-profiling->pandas_profiling) (1.10)\n",
      "Requirement already satisfied: scipy<1.12,>=1.4.1 in c:\\users\\user\\.conda\\lib\\site-packages (from ydata-profiling->pandas_profiling) (1.10.0)\n",
      "Requirement already satisfied: imagehash==4.3.1 in c:\\users\\user\\.conda\\lib\\site-packages (from ydata-profiling->pandas_profiling) (4.3.1)\n",
      "Requirement already satisfied: htmlmin==0.1.12 in c:\\users\\user\\.conda\\lib\\site-packages (from ydata-profiling->pandas_profiling) (0.1.12)\n",
      "Requirement already satisfied: requests<3,>=2.24.0 in c:\\users\\user\\.conda\\lib\\site-packages (from ydata-profiling->pandas_profiling) (2.28.1)\n",
      "Requirement already satisfied: dacite>=1.8 in c:\\users\\user\\.conda\\lib\\site-packages (from ydata-profiling->pandas_profiling) (1.8.1)\n",
      "Requirement already satisfied: matplotlib<=3.7.3,>=3.2 in c:\\users\\user\\.conda\\lib\\site-packages (from ydata-profiling->pandas_profiling) (3.7.0)\n",
      "Requirement already satisfied: statsmodels<1,>=0.13.2 in c:\\users\\user\\.conda\\lib\\site-packages (from ydata-profiling->pandas_profiling) (0.13.5)\n",
      "Requirement already satisfied: typeguard<5,>=4.1.2 in c:\\users\\user\\.conda\\lib\\site-packages (from ydata-profiling->pandas_profiling) (4.1.5)\n",
      "Requirement already satisfied: PyYAML<6.1,>=5.0.0 in c:\\users\\user\\.conda\\lib\\site-packages (from ydata-profiling->pandas_profiling) (6.0)\n",
      "Requirement already satisfied: numpy<1.26,>=1.16.0 in c:\\users\\user\\.conda\\lib\\site-packages (from ydata-profiling->pandas_profiling) (1.23.5)\n",
      "Requirement already satisfied: tqdm<5,>=4.48.2 in c:\\users\\user\\.conda\\lib\\site-packages (from ydata-profiling->pandas_profiling) (4.64.1)\n",
      "Requirement already satisfied: pandas!=1.4.0,<2.1,>1.1 in c:\\users\\user\\.conda\\lib\\site-packages (from ydata-profiling->pandas_profiling) (1.5.3)\n",
      "Requirement already satisfied: PyWavelets in c:\\users\\user\\.conda\\lib\\site-packages (from imagehash==4.3.1->ydata-profiling->pandas_profiling) (1.4.1)\n",
      "Requirement already satisfied: pillow in c:\\users\\user\\.conda\\lib\\site-packages (from imagehash==4.3.1->ydata-profiling->pandas_profiling) (9.4.0)\n",
      "Requirement already satisfied: tangled-up-in-unicode>=0.0.4 in c:\\users\\user\\.conda\\lib\\site-packages (from visions[type_image_path]==0.7.5->ydata-profiling->pandas_profiling) (0.2.0)\n",
      "Requirement already satisfied: attrs>=19.3.0 in c:\\users\\user\\.conda\\lib\\site-packages (from visions[type_image_path]==0.7.5->ydata-profiling->pandas_profiling) (22.1.0)\n",
      "Requirement already satisfied: networkx>=2.4 in c:\\users\\user\\.conda\\lib\\site-packages (from visions[type_image_path]==0.7.5->ydata-profiling->pandas_profiling) (2.8.4)\n",
      "Requirement already satisfied: MarkupSafe>=2.0 in c:\\users\\user\\.conda\\lib\\site-packages (from jinja2<3.2,>=2.11.1->ydata-profiling->pandas_profiling) (2.1.1)\n",
      "Requirement already satisfied: cycler>=0.10 in c:\\users\\user\\.conda\\lib\\site-packages (from matplotlib<=3.7.3,>=3.2->ydata-profiling->pandas_profiling) (0.11.0)\n",
      "Requirement already satisfied: pyparsing>=2.3.1 in c:\\users\\user\\.conda\\lib\\site-packages (from matplotlib<=3.7.3,>=3.2->ydata-profiling->pandas_profiling) (3.0.9)\n",
      "Requirement already satisfied: contourpy>=1.0.1 in c:\\users\\user\\.conda\\lib\\site-packages (from matplotlib<=3.7.3,>=3.2->ydata-profiling->pandas_profiling) (1.0.5)\n",
      "Requirement already satisfied: kiwisolver>=1.0.1 in c:\\users\\user\\.conda\\lib\\site-packages (from matplotlib<=3.7.3,>=3.2->ydata-profiling->pandas_profiling) (1.4.4)\n",
      "Requirement already satisfied: fonttools>=4.22.0 in c:\\users\\user\\.conda\\lib\\site-packages (from matplotlib<=3.7.3,>=3.2->ydata-profiling->pandas_profiling) (4.25.0)\n",
      "Requirement already satisfied: packaging>=20.0 in c:\\users\\user\\.conda\\lib\\site-packages (from matplotlib<=3.7.3,>=3.2->ydata-profiling->pandas_profiling) (22.0)\n",
      "Requirement already satisfied: python-dateutil>=2.7 in c:\\users\\user\\.conda\\lib\\site-packages (from matplotlib<=3.7.3,>=3.2->ydata-profiling->pandas_profiling) (2.8.2)\n",
      "Requirement already satisfied: llvmlite<0.40,>=0.39.0dev0 in c:\\users\\user\\.conda\\lib\\site-packages (from numba<0.59.0,>=0.56.0->ydata-profiling->pandas_profiling) (0.39.1)\n",
      "Requirement already satisfied: setuptools in c:\\users\\user\\.conda\\lib\\site-packages (from numba<0.59.0,>=0.56.0->ydata-profiling->pandas_profiling) (65.6.3)\n",
      "Requirement already satisfied: pytz>=2020.1 in c:\\users\\user\\.conda\\lib\\site-packages (from pandas!=1.4.0,<2.1,>1.1->ydata-profiling->pandas_profiling) (2022.7)\n",
      "Requirement already satisfied: joblib>=0.14.1 in c:\\users\\user\\.conda\\lib\\site-packages (from phik<0.13,>=0.11.1->ydata-profiling->pandas_profiling) (1.1.1)\n",
      "Requirement already satisfied: typing-extensions>=4.2.0 in c:\\users\\user\\.conda\\lib\\site-packages (from pydantic<2,>=1.8.1->ydata-profiling->pandas_profiling) (4.8.0)\n",
      "Requirement already satisfied: urllib3<1.27,>=1.21.1 in c:\\users\\user\\.conda\\lib\\site-packages (from requests<3,>=2.24.0->ydata-profiling->pandas_profiling) (1.26.14)\n",
      "Requirement already satisfied: idna<4,>=2.5 in c:\\users\\user\\.conda\\lib\\site-packages (from requests<3,>=2.24.0->ydata-profiling->pandas_profiling) (3.4)\n",
      "Requirement already satisfied: certifi>=2017.4.17 in c:\\users\\user\\.conda\\lib\\site-packages (from requests<3,>=2.24.0->ydata-profiling->pandas_profiling) (2022.12.7)\n",
      "Requirement already satisfied: charset-normalizer<3,>=2 in c:\\users\\user\\.conda\\lib\\site-packages (from requests<3,>=2.24.0->ydata-profiling->pandas_profiling) (2.0.4)\n",
      "Requirement already satisfied: patsy>=0.5.2 in c:\\users\\user\\.conda\\lib\\site-packages (from statsmodels<1,>=0.13.2->ydata-profiling->pandas_profiling) (0.5.3)\n",
      "Requirement already satisfied: colorama in c:\\users\\user\\.conda\\lib\\site-packages (from tqdm<5,>=4.48.2->ydata-profiling->pandas_profiling) (0.4.6)\n",
      "Requirement already satisfied: six in c:\\users\\user\\.conda\\lib\\site-packages (from patsy>=0.5.2->statsmodels<1,>=0.13.2->ydata-profiling->pandas_profiling) (1.16.0)\n",
      "Note: you may need to restart the kernel to use updated packages.\n"
     ]
    }
   ],
   "source": [
    "pip install pandas_profiling"
   ]
  },
  {
   "cell_type": "code",
   "execution_count": 13,
   "id": "2dd3bb63",
   "metadata": {},
   "outputs": [
    {
     "data": {
      "application/vnd.jupyter.widget-view+json": {
       "model_id": "ef0ad7b60e2d42deaf0b229b1d3a9352",
       "version_major": 2,
       "version_minor": 0
      },
      "text/plain": [
       "Summarize dataset:   0%|          | 0/5 [00:00<?, ?it/s]"
      ]
     },
     "metadata": {},
     "output_type": "display_data"
    },
    {
     "data": {
      "application/vnd.jupyter.widget-view+json": {
       "model_id": "7617caa6b05144f88272c8ecb4a08c45",
       "version_major": 2,
       "version_minor": 0
      },
      "text/plain": [
       "Generate report structure:   0%|          | 0/1 [00:00<?, ?it/s]"
      ]
     },
     "metadata": {},
     "output_type": "display_data"
    },
    {
     "data": {
      "application/vnd.jupyter.widget-view+json": {
       "model_id": "b0b9e3636c604528b848d86e1c9f35f6",
       "version_major": 2,
       "version_minor": 0
      },
      "text/plain": [
       "Render HTML:   0%|          | 0/1 [00:00<?, ?it/s]"
      ]
     },
     "metadata": {},
     "output_type": "display_data"
    },
    {
     "data": {
      "application/vnd.jupyter.widget-view+json": {
       "model_id": "ab8b6b69bd5f4592be51c194da61f456",
       "version_major": 2,
       "version_minor": 0
      },
      "text/plain": [
       "Export report to file:   0%|          | 0/1 [00:00<?, ?it/s]"
      ]
     },
     "metadata": {},
     "output_type": "display_data"
    }
   ],
   "source": [
    "import pandas as pd\n",
    "from ydata_profiling import ProfileReport\n",
    "report=ProfileReport(df_expenses)\n",
    "report.to_file(output_file='report_expenses.html')"
   ]
  },
  {
   "cell_type": "code",
   "execution_count": 14,
   "id": "45a2fdc2",
   "metadata": {},
   "outputs": [],
   "source": [
    "#Missing values#"
   ]
  },
  {
   "cell_type": "code",
   "execution_count": 15,
   "id": "e150d6db",
   "metadata": {},
   "outputs": [],
   "source": [
    "df_expenses[df_expenses=='?']=np.nan"
   ]
  },
  {
   "cell_type": "code",
   "execution_count": 16,
   "id": "ec971db9",
   "metadata": {},
   "outputs": [
    {
     "data": {
      "text/plain": [
       "age               0\n",
       "workclass         0\n",
       "education         0\n",
       "education-num     0\n",
       "marital-status    0\n",
       "occupation        0\n",
       "relationship      0\n",
       "race              0\n",
       "sex               0\n",
       "capital-gain      0\n",
       "capital-loss      0\n",
       "hours-per-week    0\n",
       "native-country    0\n",
       "Expense           0\n",
       "dtype: int64"
      ]
     },
     "execution_count": 16,
     "metadata": {},
     "output_type": "execute_result"
    }
   ],
   "source": [
    "df_expenses.isnull().sum()"
   ]
  },
  {
   "cell_type": "code",
   "execution_count": 17,
   "id": "6309b3e0",
   "metadata": {},
   "outputs": [
    {
     "data": {
      "text/plain": [
       "age               0.0\n",
       "workclass         0.0\n",
       "education         0.0\n",
       "education-num     0.0\n",
       "marital-status    0.0\n",
       "occupation        0.0\n",
       "relationship      0.0\n",
       "race              0.0\n",
       "sex               0.0\n",
       "capital-gain      0.0\n",
       "capital-loss      0.0\n",
       "hours-per-week    0.0\n",
       "native-country    0.0\n",
       "Expense           0.0\n",
       "dtype: float64"
      ]
     },
     "execution_count": 17,
     "metadata": {},
     "output_type": "execute_result"
    }
   ],
   "source": [
    "(df_expenses.isnull().sum()/(df_expenses.index.size)*100).sort_values(ascending=False)"
   ]
  },
  {
   "cell_type": "code",
   "execution_count": 18,
   "id": "9099627c",
   "metadata": {},
   "outputs": [
    {
     "name": "stdout",
     "output_type": "stream",
     "text": [
      "<class 'pandas.core.frame.DataFrame'>\n",
      "RangeIndex: 5000 entries, 0 to 4999\n",
      "Data columns (total 14 columns):\n",
      " #   Column          Non-Null Count  Dtype \n",
      "---  ------          --------------  ----- \n",
      " 0   age             5000 non-null   int64 \n",
      " 1   workclass       5000 non-null   object\n",
      " 2   education       5000 non-null   object\n",
      " 3   education-num   5000 non-null   int64 \n",
      " 4   marital-status  5000 non-null   object\n",
      " 5   occupation      5000 non-null   object\n",
      " 6   relationship    5000 non-null   object\n",
      " 7   race            5000 non-null   object\n",
      " 8   sex             5000 non-null   object\n",
      " 9   capital-gain    5000 non-null   int64 \n",
      " 10  capital-loss    5000 non-null   int64 \n",
      " 11  hours-per-week  5000 non-null   int64 \n",
      " 12  native-country  5000 non-null   object\n",
      " 13  Expense         5000 non-null   object\n",
      "dtypes: int64(5), object(9)\n",
      "memory usage: 547.0+ KB\n"
     ]
    }
   ],
   "source": [
    "df_expenses.info()"
   ]
  },
  {
   "cell_type": "code",
   "execution_count": 19,
   "id": "7d0cbe19",
   "metadata": {},
   "outputs": [],
   "source": [
    "objects=df_expenses.select_dtypes('object').columns"
   ]
  },
  {
   "cell_type": "code",
   "execution_count": 20,
   "id": "27db5389",
   "metadata": {},
   "outputs": [],
   "source": [
    "num_cols=df_expenses.select_dtypes(include=np.number)"
   ]
  },
  {
   "cell_type": "code",
   "execution_count": 21,
   "id": "ffdeb324",
   "metadata": {},
   "outputs": [
    {
     "data": {
      "text/plain": [
       "Index(['age', 'education-num', 'capital-gain', 'capital-loss',\n",
       "       'hours-per-week'],\n",
       "      dtype='object')"
      ]
     },
     "execution_count": 21,
     "metadata": {},
     "output_type": "execute_result"
    }
   ],
   "source": [
    "num_cols.columns"
   ]
  },
  {
   "cell_type": "code",
   "execution_count": 22,
   "id": "5410b82f",
   "metadata": {},
   "outputs": [
    {
     "data": {
      "text/plain": [
       "Index(['workclass', 'education', 'marital-status', 'occupation',\n",
       "       'relationship', 'race', 'sex', 'native-country', 'Expense'],\n",
       "      dtype='object')"
      ]
     },
     "execution_count": 22,
     "metadata": {},
     "output_type": "execute_result"
    }
   ],
   "source": [
    "objects"
   ]
  },
  {
   "cell_type": "code",
   "execution_count": 23,
   "id": "cde7865b",
   "metadata": {},
   "outputs": [],
   "source": [
    "from sklearn.impute import SimpleImputer\n",
    "imputer=SimpleImputer(missing_values=np.nan,strategy='most_frequent',verbose=0)"
   ]
  },
  {
   "cell_type": "code",
   "execution_count": 24,
   "id": "60bfc38a",
   "metadata": {},
   "outputs": [],
   "source": [
    "#Fit it on all objects"
   ]
  },
  {
   "cell_type": "code",
   "execution_count": 25,
   "id": "0a759268",
   "metadata": {},
   "outputs": [],
   "source": [
    "imputer=imputer.fit(df_expenses[objects].iloc[:,:])\n",
    "df_expenses[objects]=imputer.transform(df_expenses[objects])\n",
    "#Df_expenses=pd.DataFrame(df_expenses_trans,columns=df_expenses.columns)"
   ]
  },
  {
   "cell_type": "code",
   "execution_count": 26,
   "id": "fa098ac0",
   "metadata": {},
   "outputs": [
    {
     "name": "stdout",
     "output_type": "stream",
     "text": [
      "<class 'pandas.core.frame.DataFrame'>\n",
      "RangeIndex: 5000 entries, 0 to 4999\n",
      "Data columns (total 14 columns):\n",
      " #   Column          Non-Null Count  Dtype \n",
      "---  ------          --------------  ----- \n",
      " 0   age             5000 non-null   int64 \n",
      " 1   workclass       5000 non-null   object\n",
      " 2   education       5000 non-null   object\n",
      " 3   education-num   5000 non-null   int64 \n",
      " 4   marital-status  5000 non-null   object\n",
      " 5   occupation      5000 non-null   object\n",
      " 6   relationship    5000 non-null   object\n",
      " 7   race            5000 non-null   object\n",
      " 8   sex             5000 non-null   object\n",
      " 9   capital-gain    5000 non-null   int64 \n",
      " 10  capital-loss    5000 non-null   int64 \n",
      " 11  hours-per-week  5000 non-null   int64 \n",
      " 12  native-country  5000 non-null   object\n",
      " 13  Expense         5000 non-null   object\n",
      "dtypes: int64(5), object(9)\n",
      "memory usage: 547.0+ KB\n"
     ]
    }
   ],
   "source": [
    "df_expenses.info()"
   ]
  },
  {
   "cell_type": "code",
   "execution_count": 27,
   "id": "8e120880",
   "metadata": {},
   "outputs": [
    {
     "data": {
      "text/plain": [
       "Index(['age', 'education-num', 'capital-gain', 'capital-loss',\n",
       "       'hours-per-week'],\n",
       "      dtype='object')"
      ]
     },
     "execution_count": 27,
     "metadata": {},
     "output_type": "execute_result"
    }
   ],
   "source": [
    "num_cols.columns"
   ]
  },
  {
   "cell_type": "code",
   "execution_count": 28,
   "id": "28223f33",
   "metadata": {},
   "outputs": [],
   "source": [
    "num_cols=num_cols[['age','hours-per-week','capital-gain','capital-loss']]"
   ]
  },
  {
   "cell_type": "code",
   "execution_count": 29,
   "id": "f8947365",
   "metadata": {},
   "outputs": [
    {
     "data": {
      "image/png": "[encoded data removed]",
      "text/plain": [
       "<Figure size 1500x1500 with 4 Axes>"
      ]
     },
     "metadata": {},
     "output_type": "display_data"
    }
   ],
   "source": [
    "fig, ax=plt.subplots(2,2,figsize=(15,15))\n",
    "for var, subplot in zip(num_cols.columns,ax.flatten()):\n",
    "  sns.boxplot(num_cols[var],ax=subplot)\n",
    "\n",
    "plt.show()"
   ]
  },
  {
   "cell_type": "code",
   "execution_count": 30,
   "id": "516877ed",
   "metadata": {},
   "outputs": [],
   "source": [
    "#target distributed evenly"
   ]
  },
  {
   "cell_type": "code",
   "execution_count": 31,
   "id": "a5c5dbcd",
   "metadata": {},
   "outputs": [
    {
     "data": {
      "text/plain": [
       "array([' >50K', ' <=50K'], dtype=object)"
      ]
     },
     "execution_count": 31,
     "metadata": {},
     "output_type": "execute_result"
    }
   ],
   "source": [
    "df_expenses['Expense'].unique()"
   ]
  },
  {
   "cell_type": "code",
   "execution_count": 32,
   "id": "62c1ea17",
   "metadata": {},
   "outputs": [],
   "source": [
    "df_expenses['Expense']=df_expenses['Expense'].map({' <=50K':0,' >50K':1})"
   ]
  },
  {
   "cell_type": "code",
   "execution_count": 33,
   "id": "c10715f2",
   "metadata": {},
   "outputs": [
    {
     "data": {
      "text/plain": [
       "0    75.52\n",
       "1    24.48\n",
       "Name: Expense, dtype: float64"
      ]
     },
     "execution_count": 33,
     "metadata": {},
     "output_type": "execute_result"
    }
   ],
   "source": [
    "df_expenses['Expense'].value_counts(normalize=True)*100"
   ]
  },
  {
   "cell_type": "code",
   "execution_count": 34,
   "id": "26dfccaa",
   "metadata": {},
   "outputs": [],
   "source": [
    "#SMOTE wont b applied bcz we r turning fictitious data in patterns and its applied on imbalanced dataset only..."
   ]
  },
  {
   "cell_type": "code",
   "execution_count": 35,
   "id": "6d6828c1",
   "metadata": {},
   "outputs": [],
   "source": [
    "#Correlation Matrix for Numerical data"
   ]
  },
  {
   "cell_type": "code",
   "execution_count": 36,
   "id": "7ca3f83a",
   "metadata": {},
   "outputs": [
    {
     "data": {
      "image/png": "[encoded data removed]",
      "text/plain": [
       "<Figure size 1000x500 with 2 Axes>"
      ]
     },
     "metadata": {},
     "output_type": "display_data"
    }
   ],
   "source": [
    "plt.figure(figsize=(10,5))\n",
    "sns.set(font_scale=1)\n",
    "sns.heatmap(num_cols.corr(),\n",
    "            cmap='plasma',\n",
    "            vmax=1.0,\n",
    "            vmin=-1.0,\n",
    "            annot = True,\n",
    "            annot_kws={\"size\": 18})\n",
    "plt.show()\n"
   ]
  },
  {
   "cell_type": "code",
   "execution_count": 37,
   "id": "84ad3725",
   "metadata": {},
   "outputs": [
    {
     "name": "stdout",
     "output_type": "stream",
     "text": [
      "Requirement already satisfied: category_encoders in c:\\users\\user\\.conda\\lib\\site-packages (2.6.2)\n",
      "Requirement already satisfied: numpy>=1.14.0 in c:\\users\\user\\.conda\\lib\\site-packages (from category_encoders) (1.23.5)\n",
      "Requirement already satisfied: statsmodels>=0.9.0 in c:\\users\\user\\.conda\\lib\\site-packages (from category_encoders) (0.13.5)\n",
      "Requirement already satisfied: scipy>=1.0.0 in c:\\users\\user\\.conda\\lib\\site-packages (from category_encoders) (1.10.0)\n",
      "Requirement already satisfied: scikit-learn>=0.20.0 in c:\\users\\user\\.conda\\lib\\site-packages (from category_encoders) (1.2.1)\n",
      "Requirement already satisfied: patsy>=0.5.1 in c:\\users\\user\\.conda\\lib\\site-packages (from category_encoders) (0.5.3)\n",
      "Requirement already satisfied: pandas>=1.0.5 in c:\\users\\user\\.conda\\lib\\site-packages (from category_encoders) (1.5.3)\n",
      "Requirement already satisfied: pytz>=2020.1 in c:\\users\\user\\.conda\\lib\\site-packages (from pandas>=1.0.5->category_encoders) (2022.7)\n",
      "Requirement already satisfied: python-dateutil>=2.8.1 in c:\\users\\user\\.conda\\lib\\site-packages (from pandas>=1.0.5->category_encoders) (2.8.2)\n",
      "Requirement already satisfied: six in c:\\users\\user\\.conda\\lib\\site-packages (from patsy>=0.5.1->category_encoders) (1.16.0)\n",
      "Requirement already satisfied: joblib>=1.1.1 in c:\\users\\user\\.conda\\lib\\site-packages (from scikit-learn>=0.20.0->category_encoders) (1.1.1)\n",
      "Requirement already satisfied: threadpoolctl>=2.0.0 in c:\\users\\user\\.conda\\lib\\site-packages (from scikit-learn>=0.20.0->category_encoders) (2.2.0)\n",
      "Requirement already satisfied: packaging>=21.3 in c:\\users\\user\\.conda\\lib\\site-packages (from statsmodels>=0.9.0->category_encoders) (22.0)\n",
      "Note: you may need to restart the kernel to use updated packages.\n"
     ]
    }
   ],
   "source": [
    "pip install category_encoders"
   ]
  },
  {
   "cell_type": "code",
   "execution_count": 38,
   "id": "a2cdec6a",
   "metadata": {},
   "outputs": [],
   "source": [
    "import category_encoders as ce\n"
   ]
  },
  {
   "cell_type": "code",
   "execution_count": 39,
   "id": "0c758aac",
   "metadata": {},
   "outputs": [
    {
     "data": {
      "text/plain": [
       "0        Self-emp-inc\n",
       "1             Private\n",
       "2             Private\n",
       "3           State-gov\n",
       "4           Local-gov\n",
       "            ...      \n",
       "4995          Private\n",
       "4996          Private\n",
       "4997          Private\n",
       "4998          Private\n",
       "4999          Private\n",
       "Name: workclass, Length: 5000, dtype: object"
      ]
     },
     "execution_count": 39,
     "metadata": {},
     "output_type": "execute_result"
    }
   ],
   "source": [
    "\n",
    "cols=df_expenses['workclass']\n",
    "cols\n"
   ]
  },
  {
   "cell_type": "code",
   "execution_count": 40,
   "id": "d4cc346b",
   "metadata": {},
   "outputs": [
    {
     "data": {
      "text/html": [
       "<div>\n",
       "<style scoped>\n",
       "    .dataframe tbody tr th:only-of-type {\n",
       "        vertical-align: middle;\n",
       "    }\n",
       "\n",
       "    .dataframe tbody tr th {\n",
       "        vertical-align: top;\n",
       "    }\n",
       "\n",
       "    .dataframe thead th {\n",
       "        text-align: right;\n",
       "    }\n",
       "</style>\n",
       "<table border=\"1\" class=\"dataframe\">\n",
       "  <thead>\n",
       "    <tr style=\"text-align: right;\">\n",
       "      <th></th>\n",
       "      <th>age</th>\n",
       "      <th>workclass</th>\n",
       "      <th>education</th>\n",
       "      <th>education-num</th>\n",
       "      <th>marital-status</th>\n",
       "      <th>occupation</th>\n",
       "      <th>relationship</th>\n",
       "      <th>race</th>\n",
       "      <th>sex</th>\n",
       "      <th>capital-gain</th>\n",
       "      <th>capital-loss</th>\n",
       "      <th>hours-per-week</th>\n",
       "      <th>native-country</th>\n",
       "      <th>Expense</th>\n",
       "    </tr>\n",
       "  </thead>\n",
       "  <tbody>\n",
       "    <tr>\n",
       "      <th>0</th>\n",
       "      <td>39</td>\n",
       "      <td>Self-emp-inc</td>\n",
       "      <td>Bachelors</td>\n",
       "      <td>13</td>\n",
       "      <td>Married-civ-spouse</td>\n",
       "      <td>Exec-managerial</td>\n",
       "      <td>Husband</td>\n",
       "      <td>White</td>\n",
       "      <td>Male</td>\n",
       "      <td>15024</td>\n",
       "      <td>0</td>\n",
       "      <td>50</td>\n",
       "      <td>United-States</td>\n",
       "      <td>1</td>\n",
       "    </tr>\n",
       "    <tr>\n",
       "      <th>1</th>\n",
       "      <td>20</td>\n",
       "      <td>Private</td>\n",
       "      <td>Some-college</td>\n",
       "      <td>10</td>\n",
       "      <td>Never-married</td>\n",
       "      <td>Other-service</td>\n",
       "      <td>Own-child</td>\n",
       "      <td>White</td>\n",
       "      <td>Male</td>\n",
       "      <td>0</td>\n",
       "      <td>0</td>\n",
       "      <td>40</td>\n",
       "      <td>United-States</td>\n",
       "      <td>0</td>\n",
       "    </tr>\n",
       "    <tr>\n",
       "      <th>2</th>\n",
       "      <td>50</td>\n",
       "      <td>Private</td>\n",
       "      <td>Doctorate</td>\n",
       "      <td>16</td>\n",
       "      <td>Married-civ-spouse</td>\n",
       "      <td>Prof-specialty</td>\n",
       "      <td>Husband</td>\n",
       "      <td>White</td>\n",
       "      <td>Male</td>\n",
       "      <td>0</td>\n",
       "      <td>1902</td>\n",
       "      <td>65</td>\n",
       "      <td>United-States</td>\n",
       "      <td>1</td>\n",
       "    </tr>\n",
       "    <tr>\n",
       "      <th>3</th>\n",
       "      <td>38</td>\n",
       "      <td>State-gov</td>\n",
       "      <td>HS-grad</td>\n",
       "      <td>9</td>\n",
       "      <td>Married-civ-spouse</td>\n",
       "      <td>Prof-specialty</td>\n",
       "      <td>Wife</td>\n",
       "      <td>White</td>\n",
       "      <td>Female</td>\n",
       "      <td>0</td>\n",
       "      <td>0</td>\n",
       "      <td>40</td>\n",
       "      <td>United-States</td>\n",
       "      <td>1</td>\n",
       "    </tr>\n",
       "    <tr>\n",
       "      <th>4</th>\n",
       "      <td>23</td>\n",
       "      <td>Local-gov</td>\n",
       "      <td>Bachelors</td>\n",
       "      <td>13</td>\n",
       "      <td>Never-married</td>\n",
       "      <td>Prof-specialty</td>\n",
       "      <td>Own-child</td>\n",
       "      <td>White</td>\n",
       "      <td>Female</td>\n",
       "      <td>0</td>\n",
       "      <td>0</td>\n",
       "      <td>60</td>\n",
       "      <td>United-States</td>\n",
       "      <td>0</td>\n",
       "    </tr>\n",
       "  </tbody>\n",
       "</table>\n",
       "</div>"
      ],
      "text/plain": [
       "   age      workclass      education  education-num       marital-status  \\\n",
       "0   39   Self-emp-inc      Bachelors             13   Married-civ-spouse   \n",
       "1   20        Private   Some-college             10        Never-married   \n",
       "2   50        Private      Doctorate             16   Married-civ-spouse   \n",
       "3   38      State-gov        HS-grad              9   Married-civ-spouse   \n",
       "4   23      Local-gov      Bachelors             13        Never-married   \n",
       "\n",
       "         occupation relationship    race      sex  capital-gain  capital-loss  \\\n",
       "0   Exec-managerial      Husband   White     Male         15024             0   \n",
       "1     Other-service    Own-child   White     Male             0             0   \n",
       "2    Prof-specialty      Husband   White     Male             0          1902   \n",
       "3    Prof-specialty         Wife   White   Female             0             0   \n",
       "4    Prof-specialty    Own-child   White   Female             0             0   \n",
       "\n",
       "   hours-per-week  native-country  Expense  \n",
       "0              50   United-States        1  \n",
       "1              40   United-States        0  \n",
       "2              65   United-States        1  \n",
       "3              40   United-States        1  \n",
       "4              60   United-States        0  "
      ]
     },
     "execution_count": 40,
     "metadata": {},
     "output_type": "execute_result"
    }
   ],
   "source": [
    "df_expenses.head()"
   ]
  },
  {
   "cell_type": "code",
   "execution_count": 49,
   "id": "41a923df",
   "metadata": {},
   "outputs": [],
   "source": [
    "cat_columns=df_expenses.select_dtypes(object).columns"
   ]
  },
  {
   "cell_type": "code",
   "execution_count": 42,
   "id": "e1806e09",
   "metadata": {},
   "outputs": [],
   "source": [
    "#Encoding of Categorical Variables"
   ]
  },
  {
   "cell_type": "code",
   "execution_count": 48,
   "id": "4e7ebce1",
   "metadata": {},
   "outputs": [],
   "source": [
    "\n",
    "encoder=ce.WOEEncoder(cols=cat_columns)\n",
    "encode_data=encoder.fit_transform(df_expenses[cat_columns],df_expenses['Expense'])\n"
   ]
  },
  {
   "cell_type": "code",
   "execution_count": 77,
   "id": "7be75aad",
   "metadata": {},
   "outputs": [
    {
     "data": {
      "text/html": [
       "<div>\n",
       "<style scoped>\n",
       "    .dataframe tbody tr th:only-of-type {\n",
       "        vertical-align: middle;\n",
       "    }\n",
       "\n",
       "    .dataframe tbody tr th {\n",
       "        vertical-align: top;\n",
       "    }\n",
       "\n",
       "    .dataframe thead th {\n",
       "        text-align: right;\n",
       "    }\n",
       "</style>\n",
       "<table border=\"1\" class=\"dataframe\">\n",
       "  <thead>\n",
       "    <tr style=\"text-align: right;\">\n",
       "      <th></th>\n",
       "      <th>workclass</th>\n",
       "      <th>education</th>\n",
       "      <th>marital-status</th>\n",
       "      <th>occupation</th>\n",
       "      <th>relationship</th>\n",
       "      <th>race</th>\n",
       "      <th>sex</th>\n",
       "      <th>native-country</th>\n",
       "    </tr>\n",
       "  </thead>\n",
       "  <tbody>\n",
       "    <tr>\n",
       "      <th>0</th>\n",
       "      <td>1.539872</td>\n",
       "      <td>0.725021</td>\n",
       "      <td>0.968321</td>\n",
       "      <td>1.037001</td>\n",
       "      <td>0.937510</td>\n",
       "      <td>0.085567</td>\n",
       "      <td>0.302285</td>\n",
       "      <td>0.020539</td>\n",
       "    </tr>\n",
       "    <tr>\n",
       "      <th>1</th>\n",
       "      <td>-0.103603</td>\n",
       "      <td>-0.384527</td>\n",
       "      <td>-1.902022</td>\n",
       "      <td>-1.934122</td>\n",
       "      <td>-3.146165</td>\n",
       "      <td>0.085567</td>\n",
       "      <td>0.302285</td>\n",
       "      <td>0.020539</td>\n",
       "    </tr>\n",
       "    <tr>\n",
       "      <th>2</th>\n",
       "      <td>-0.103603</td>\n",
       "      <td>2.367151</td>\n",
       "      <td>0.968321</td>\n",
       "      <td>0.980256</td>\n",
       "      <td>0.937510</td>\n",
       "      <td>0.085567</td>\n",
       "      <td>0.302285</td>\n",
       "      <td>0.020539</td>\n",
       "    </tr>\n",
       "    <tr>\n",
       "      <th>3</th>\n",
       "      <td>0.149164</td>\n",
       "      <td>-0.368765</td>\n",
       "      <td>0.968321</td>\n",
       "      <td>0.980256</td>\n",
       "      <td>1.289741</td>\n",
       "      <td>0.085567</td>\n",
       "      <td>-0.863275</td>\n",
       "      <td>0.020539</td>\n",
       "    </tr>\n",
       "    <tr>\n",
       "      <th>4</th>\n",
       "      <td>0.124464</td>\n",
       "      <td>0.725021</td>\n",
       "      <td>-1.902022</td>\n",
       "      <td>0.980256</td>\n",
       "      <td>-3.146165</td>\n",
       "      <td>0.085567</td>\n",
       "      <td>-0.863275</td>\n",
       "      <td>0.020539</td>\n",
       "    </tr>\n",
       "    <tr>\n",
       "      <th>...</th>\n",
       "      <td>...</td>\n",
       "      <td>...</td>\n",
       "      <td>...</td>\n",
       "      <td>...</td>\n",
       "      <td>...</td>\n",
       "      <td>...</td>\n",
       "      <td>...</td>\n",
       "      <td>...</td>\n",
       "    </tr>\n",
       "    <tr>\n",
       "      <th>4995</th>\n",
       "      <td>-0.103603</td>\n",
       "      <td>-0.368765</td>\n",
       "      <td>0.968321</td>\n",
       "      <td>-0.677132</td>\n",
       "      <td>0.937510</td>\n",
       "      <td>0.085567</td>\n",
       "      <td>0.302285</td>\n",
       "      <td>0.020539</td>\n",
       "    </tr>\n",
       "    <tr>\n",
       "      <th>4996</th>\n",
       "      <td>-0.103603</td>\n",
       "      <td>-0.384527</td>\n",
       "      <td>-1.902022</td>\n",
       "      <td>0.527601</td>\n",
       "      <td>-3.146165</td>\n",
       "      <td>0.085567</td>\n",
       "      <td>-0.863275</td>\n",
       "      <td>0.020539</td>\n",
       "    </tr>\n",
       "    <tr>\n",
       "      <th>4997</th>\n",
       "      <td>-0.103603</td>\n",
       "      <td>-1.519554</td>\n",
       "      <td>-1.902022</td>\n",
       "      <td>-0.155496</td>\n",
       "      <td>-3.146165</td>\n",
       "      <td>0.085567</td>\n",
       "      <td>0.302285</td>\n",
       "      <td>0.020539</td>\n",
       "    </tr>\n",
       "    <tr>\n",
       "      <th>4998</th>\n",
       "      <td>-0.103603</td>\n",
       "      <td>-0.368765</td>\n",
       "      <td>0.968321</td>\n",
       "      <td>-0.007220</td>\n",
       "      <td>0.937510</td>\n",
       "      <td>0.085567</td>\n",
       "      <td>0.302285</td>\n",
       "      <td>-1.503363</td>\n",
       "    </tr>\n",
       "    <tr>\n",
       "      <th>4999</th>\n",
       "      <td>-0.103603</td>\n",
       "      <td>-0.368765</td>\n",
       "      <td>-1.113013</td>\n",
       "      <td>-0.007220</td>\n",
       "      <td>-1.057800</td>\n",
       "      <td>0.085567</td>\n",
       "      <td>0.302285</td>\n",
       "      <td>0.020539</td>\n",
       "    </tr>\n",
       "  </tbody>\n",
       "</table>\n",
       "<p>5000 rows × 8 columns</p>\n",
       "</div>"
      ],
      "text/plain": [
       "      workclass  education  marital-status  occupation  relationship  \\\n",
       "0      1.539872   0.725021        0.968321    1.037001      0.937510   \n",
       "1     -0.103603  -0.384527       -1.902022   -1.934122     -3.146165   \n",
       "2     -0.103603   2.367151        0.968321    0.980256      0.937510   \n",
       "3      0.149164  -0.368765        0.968321    0.980256      1.289741   \n",
       "4      0.124464   0.725021       -1.902022    0.980256     -3.146165   \n",
       "...         ...        ...             ...         ...           ...   \n",
       "4995  -0.103603  -0.368765        0.968321   -0.677132      0.937510   \n",
       "4996  -0.103603  -0.384527       -1.902022    0.527601     -3.146165   \n",
       "4997  -0.103603  -1.519554       -1.902022   -0.155496     -3.146165   \n",
       "4998  -0.103603  -0.368765        0.968321   -0.007220      0.937510   \n",
       "4999  -0.103603  -0.368765       -1.113013   -0.007220     -1.057800   \n",
       "\n",
       "          race       sex  native-country  \n",
       "0     0.085567  0.302285        0.020539  \n",
       "1     0.085567  0.302285        0.020539  \n",
       "2     0.085567  0.302285        0.020539  \n",
       "3     0.085567 -0.863275        0.020539  \n",
       "4     0.085567 -0.863275        0.020539  \n",
       "...        ...       ...             ...  \n",
       "4995  0.085567  0.302285        0.020539  \n",
       "4996  0.085567 -0.863275        0.020539  \n",
       "4997  0.085567  0.302285        0.020539  \n",
       "4998  0.085567  0.302285       -1.503363  \n",
       "4999  0.085567  0.302285        0.020539  \n",
       "\n",
       "[5000 rows x 8 columns]"
      ]
     },
     "execution_count": 77,
     "metadata": {},
     "output_type": "execute_result"
    }
   ],
   "source": [
    "encode_data"
   ]
  },
  {
   "cell_type": "code",
   "execution_count": 79,
   "id": "13a080b5",
   "metadata": {},
   "outputs": [],
   "source": [
    "num_cols=df_expenses.select_dtypes(int).columns"
   ]
  },
  {
   "cell_type": "code",
   "execution_count": 80,
   "id": "176c4a96",
   "metadata": {},
   "outputs": [
    {
     "data": {
      "text/plain": [
       "Index(['age', 'education-num', 'capital-gain', 'capital-loss',\n",
       "       'hours-per-week', 'Expense'],\n",
       "      dtype='object')"
      ]
     },
     "execution_count": 80,
     "metadata": {},
     "output_type": "execute_result"
    }
   ],
   "source": [
    "num_cols"
   ]
  },
  {
   "cell_type": "code",
   "execution_count": 82,
   "id": "5fb399dc",
   "metadata": {},
   "outputs": [
    {
     "data": {
      "text/html": [
       "<div>\n",
       "<style scoped>\n",
       "    .dataframe tbody tr th:only-of-type {\n",
       "        vertical-align: middle;\n",
       "    }\n",
       "\n",
       "    .dataframe tbody tr th {\n",
       "        vertical-align: top;\n",
       "    }\n",
       "\n",
       "    .dataframe thead th {\n",
       "        text-align: right;\n",
       "    }\n",
       "</style>\n",
       "<table border=\"1\" class=\"dataframe\">\n",
       "  <thead>\n",
       "    <tr style=\"text-align: right;\">\n",
       "      <th></th>\n",
       "      <th>age</th>\n",
       "      <th>education-num</th>\n",
       "      <th>capital-gain</th>\n",
       "      <th>capital-loss</th>\n",
       "      <th>hours-per-week</th>\n",
       "      <th>Expense</th>\n",
       "      <th>workclass</th>\n",
       "      <th>education</th>\n",
       "      <th>marital-status</th>\n",
       "      <th>occupation</th>\n",
       "      <th>relationship</th>\n",
       "      <th>race</th>\n",
       "      <th>sex</th>\n",
       "      <th>native-country</th>\n",
       "    </tr>\n",
       "  </thead>\n",
       "  <tbody>\n",
       "    <tr>\n",
       "      <th>0</th>\n",
       "      <td>39</td>\n",
       "      <td>13</td>\n",
       "      <td>15024</td>\n",
       "      <td>0</td>\n",
       "      <td>50</td>\n",
       "      <td>1</td>\n",
       "      <td>1.539872</td>\n",
       "      <td>0.725021</td>\n",
       "      <td>0.968321</td>\n",
       "      <td>1.037001</td>\n",
       "      <td>0.937510</td>\n",
       "      <td>0.085567</td>\n",
       "      <td>0.302285</td>\n",
       "      <td>0.020539</td>\n",
       "    </tr>\n",
       "    <tr>\n",
       "      <th>1</th>\n",
       "      <td>20</td>\n",
       "      <td>10</td>\n",
       "      <td>0</td>\n",
       "      <td>0</td>\n",
       "      <td>40</td>\n",
       "      <td>0</td>\n",
       "      <td>-0.103603</td>\n",
       "      <td>-0.384527</td>\n",
       "      <td>-1.902022</td>\n",
       "      <td>-1.934122</td>\n",
       "      <td>-3.146165</td>\n",
       "      <td>0.085567</td>\n",
       "      <td>0.302285</td>\n",
       "      <td>0.020539</td>\n",
       "    </tr>\n",
       "    <tr>\n",
       "      <th>2</th>\n",
       "      <td>50</td>\n",
       "      <td>16</td>\n",
       "      <td>0</td>\n",
       "      <td>1902</td>\n",
       "      <td>65</td>\n",
       "      <td>1</td>\n",
       "      <td>-0.103603</td>\n",
       "      <td>2.367151</td>\n",
       "      <td>0.968321</td>\n",
       "      <td>0.980256</td>\n",
       "      <td>0.937510</td>\n",
       "      <td>0.085567</td>\n",
       "      <td>0.302285</td>\n",
       "      <td>0.020539</td>\n",
       "    </tr>\n",
       "    <tr>\n",
       "      <th>3</th>\n",
       "      <td>38</td>\n",
       "      <td>9</td>\n",
       "      <td>0</td>\n",
       "      <td>0</td>\n",
       "      <td>40</td>\n",
       "      <td>1</td>\n",
       "      <td>0.149164</td>\n",
       "      <td>-0.368765</td>\n",
       "      <td>0.968321</td>\n",
       "      <td>0.980256</td>\n",
       "      <td>1.289741</td>\n",
       "      <td>0.085567</td>\n",
       "      <td>-0.863275</td>\n",
       "      <td>0.020539</td>\n",
       "    </tr>\n",
       "    <tr>\n",
       "      <th>4</th>\n",
       "      <td>23</td>\n",
       "      <td>13</td>\n",
       "      <td>0</td>\n",
       "      <td>0</td>\n",
       "      <td>60</td>\n",
       "      <td>0</td>\n",
       "      <td>0.124464</td>\n",
       "      <td>0.725021</td>\n",
       "      <td>-1.902022</td>\n",
       "      <td>0.980256</td>\n",
       "      <td>-3.146165</td>\n",
       "      <td>0.085567</td>\n",
       "      <td>-0.863275</td>\n",
       "      <td>0.020539</td>\n",
       "    </tr>\n",
       "  </tbody>\n",
       "</table>\n",
       "</div>"
      ],
      "text/plain": [
       "   age  education-num  capital-gain  capital-loss  hours-per-week  Expense  \\\n",
       "0   39             13         15024             0              50        1   \n",
       "1   20             10             0             0              40        0   \n",
       "2   50             16             0          1902              65        1   \n",
       "3   38              9             0             0              40        1   \n",
       "4   23             13             0             0              60        0   \n",
       "\n",
       "   workclass  education  marital-status  occupation  relationship      race  \\\n",
       "0   1.539872   0.725021        0.968321    1.037001      0.937510  0.085567   \n",
       "1  -0.103603  -0.384527       -1.902022   -1.934122     -3.146165  0.085567   \n",
       "2  -0.103603   2.367151        0.968321    0.980256      0.937510  0.085567   \n",
       "3   0.149164  -0.368765        0.968321    0.980256      1.289741  0.085567   \n",
       "4   0.124464   0.725021       -1.902022    0.980256     -3.146165  0.085567   \n",
       "\n",
       "        sex  native-country  \n",
       "0  0.302285        0.020539  \n",
       "1  0.302285        0.020539  \n",
       "2  0.302285        0.020539  \n",
       "3 -0.863275        0.020539  \n",
       "4 -0.863275        0.020539  "
      ]
     },
     "execution_count": 82,
     "metadata": {},
     "output_type": "execute_result"
    }
   ],
   "source": [
    "df_salary=pd.concat([pd.DataFrame(df_expenses[num_cols]),encode_data],axis=1)\n",
    "df_salary.head()"
   ]
  },
  {
   "cell_type": "code",
   "execution_count": 83,
   "id": "8f2efd75",
   "metadata": {},
   "outputs": [
    {
     "name": "stdout",
     "output_type": "stream",
     "text": [
      "<class 'pandas.core.frame.DataFrame'>\n",
      "RangeIndex: 5000 entries, 0 to 4999\n",
      "Data columns (total 14 columns):\n",
      " #   Column          Non-Null Count  Dtype  \n",
      "---  ------          --------------  -----  \n",
      " 0   age             5000 non-null   int64  \n",
      " 1   education-num   5000 non-null   int64  \n",
      " 2   capital-gain    5000 non-null   int64  \n",
      " 3   capital-loss    5000 non-null   int64  \n",
      " 4   hours-per-week  5000 non-null   int64  \n",
      " 5   Expense         5000 non-null   int64  \n",
      " 6   workclass       5000 non-null   float64\n",
      " 7   education       5000 non-null   float64\n",
      " 8   marital-status  5000 non-null   float64\n",
      " 9   occupation      5000 non-null   float64\n",
      " 10  relationship    5000 non-null   float64\n",
      " 11  race            5000 non-null   float64\n",
      " 12  sex             5000 non-null   float64\n",
      " 13  native-country  5000 non-null   float64\n",
      "dtypes: float64(8), int64(6)\n",
      "memory usage: 547.0 KB\n"
     ]
    }
   ],
   "source": [
    "df_salary.info()"
   ]
  },
  {
   "cell_type": "code",
   "execution_count": 110,
   "id": "59a994a4",
   "metadata": {},
   "outputs": [],
   "source": [
    "\n",
    "Y=df_salary.Expense\n",
    "X=df_salary[['age', 'education-num','sex',\n",
    "               'capital-gain','capital-loss', 'hours-per-week',\n",
    "               'native-country','occupation', 'workclass',\n",
    "               'relationship','race', 'marital-status', 'education']]\n",
    "               "
   ]
  },
  {
   "cell_type": "code",
   "execution_count": 111,
   "id": "158ca788",
   "metadata": {},
   "outputs": [
    {
     "data": {
      "text/plain": [
       "0       1\n",
       "1       0\n",
       "2       1\n",
       "3       1\n",
       "4       0\n",
       "       ..\n",
       "4995    0\n",
       "4996    0\n",
       "4997    0\n",
       "4998    1\n",
       "4999    0\n",
       "Name: Expense, Length: 5000, dtype: int64"
      ]
     },
     "execution_count": 111,
     "metadata": {},
     "output_type": "execute_result"
    }
   ],
   "source": [
    "Y"
   ]
  },
  {
   "cell_type": "code",
   "execution_count": 112,
   "id": "1d68febf",
   "metadata": {},
   "outputs": [
    {
     "data": {
      "text/html": [
       "<div>\n",
       "<style scoped>\n",
       "    .dataframe tbody tr th:only-of-type {\n",
       "        vertical-align: middle;\n",
       "    }\n",
       "\n",
       "    .dataframe tbody tr th {\n",
       "        vertical-align: top;\n",
       "    }\n",
       "\n",
       "    .dataframe thead th {\n",
       "        text-align: right;\n",
       "    }\n",
       "</style>\n",
       "<table border=\"1\" class=\"dataframe\">\n",
       "  <thead>\n",
       "    <tr style=\"text-align: right;\">\n",
       "      <th></th>\n",
       "      <th>age</th>\n",
       "      <th>education-num</th>\n",
       "      <th>sex</th>\n",
       "      <th>capital-gain</th>\n",
       "      <th>capital-loss</th>\n",
       "      <th>hours-per-week</th>\n",
       "      <th>native-country</th>\n",
       "      <th>occupation</th>\n",
       "      <th>workclass</th>\n",
       "      <th>relationship</th>\n",
       "      <th>race</th>\n",
       "      <th>marital-status</th>\n",
       "      <th>education</th>\n",
       "    </tr>\n",
       "  </thead>\n",
       "  <tbody>\n",
       "    <tr>\n",
       "      <th>0</th>\n",
       "      <td>39</td>\n",
       "      <td>13</td>\n",
       "      <td>0.302285</td>\n",
       "      <td>15024</td>\n",
       "      <td>0</td>\n",
       "      <td>50</td>\n",
       "      <td>0.020539</td>\n",
       "      <td>1.037001</td>\n",
       "      <td>1.539872</td>\n",
       "      <td>0.937510</td>\n",
       "      <td>0.085567</td>\n",
       "      <td>0.968321</td>\n",
       "      <td>0.725021</td>\n",
       "    </tr>\n",
       "    <tr>\n",
       "      <th>1</th>\n",
       "      <td>20</td>\n",
       "      <td>10</td>\n",
       "      <td>0.302285</td>\n",
       "      <td>0</td>\n",
       "      <td>0</td>\n",
       "      <td>40</td>\n",
       "      <td>0.020539</td>\n",
       "      <td>-1.934122</td>\n",
       "      <td>-0.103603</td>\n",
       "      <td>-3.146165</td>\n",
       "      <td>0.085567</td>\n",
       "      <td>-1.902022</td>\n",
       "      <td>-0.384527</td>\n",
       "    </tr>\n",
       "    <tr>\n",
       "      <th>2</th>\n",
       "      <td>50</td>\n",
       "      <td>16</td>\n",
       "      <td>0.302285</td>\n",
       "      <td>0</td>\n",
       "      <td>1902</td>\n",
       "      <td>65</td>\n",
       "      <td>0.020539</td>\n",
       "      <td>0.980256</td>\n",
       "      <td>-0.103603</td>\n",
       "      <td>0.937510</td>\n",
       "      <td>0.085567</td>\n",
       "      <td>0.968321</td>\n",
       "      <td>2.367151</td>\n",
       "    </tr>\n",
       "    <tr>\n",
       "      <th>3</th>\n",
       "      <td>38</td>\n",
       "      <td>9</td>\n",
       "      <td>-0.863275</td>\n",
       "      <td>0</td>\n",
       "      <td>0</td>\n",
       "      <td>40</td>\n",
       "      <td>0.020539</td>\n",
       "      <td>0.980256</td>\n",
       "      <td>0.149164</td>\n",
       "      <td>1.289741</td>\n",
       "      <td>0.085567</td>\n",
       "      <td>0.968321</td>\n",
       "      <td>-0.368765</td>\n",
       "    </tr>\n",
       "    <tr>\n",
       "      <th>4</th>\n",
       "      <td>23</td>\n",
       "      <td>13</td>\n",
       "      <td>-0.863275</td>\n",
       "      <td>0</td>\n",
       "      <td>0</td>\n",
       "      <td>60</td>\n",
       "      <td>0.020539</td>\n",
       "      <td>0.980256</td>\n",
       "      <td>0.124464</td>\n",
       "      <td>-3.146165</td>\n",
       "      <td>0.085567</td>\n",
       "      <td>-1.902022</td>\n",
       "      <td>0.725021</td>\n",
       "    </tr>\n",
       "  </tbody>\n",
       "</table>\n",
       "</div>"
      ],
      "text/plain": [
       "   age  education-num       sex  capital-gain  capital-loss  hours-per-week  \\\n",
       "0   39             13  0.302285         15024             0              50   \n",
       "1   20             10  0.302285             0             0              40   \n",
       "2   50             16  0.302285             0          1902              65   \n",
       "3   38              9 -0.863275             0             0              40   \n",
       "4   23             13 -0.863275             0             0              60   \n",
       "\n",
       "   native-country  occupation  workclass  relationship      race  \\\n",
       "0        0.020539    1.037001   1.539872      0.937510  0.085567   \n",
       "1        0.020539   -1.934122  -0.103603     -3.146165  0.085567   \n",
       "2        0.020539    0.980256  -0.103603      0.937510  0.085567   \n",
       "3        0.020539    0.980256   0.149164      1.289741  0.085567   \n",
       "4        0.020539    0.980256   0.124464     -3.146165  0.085567   \n",
       "\n",
       "   marital-status  education  \n",
       "0        0.968321   0.725021  \n",
       "1       -1.902022  -0.384527  \n",
       "2        0.968321   2.367151  \n",
       "3        0.968321  -0.368765  \n",
       "4       -1.902022   0.725021  "
      ]
     },
     "execution_count": 112,
     "metadata": {},
     "output_type": "execute_result"
    }
   ],
   "source": [
    "X.head()"
   ]
  },
  {
   "cell_type": "code",
   "execution_count": 113,
   "id": "a1a79cff",
   "metadata": {},
   "outputs": [],
   "source": [
    "#Model building-do thge train and test split"
   ]
  },
  {
   "cell_type": "code",
   "execution_count": 114,
   "id": "48464a18",
   "metadata": {},
   "outputs": [],
   "source": [
    "from sklearn.model_selection import train_test_split"
   ]
  },
  {
   "cell_type": "code",
   "execution_count": 115,
   "id": "eeb6bafb",
   "metadata": {},
   "outputs": [],
   "source": [
    "X_train,X_test,y_train,y_test=train_test_split(X,\n",
    "                                              Y,\n",
    "                                              test_size=0.30,\n",
    "                                              stratify=Y,\n",
    "                                              random_state=0)"
   ]
  },
  {
   "cell_type": "code",
   "execution_count": 122,
   "id": "19d3756d",
   "metadata": {},
   "outputs": [
    {
     "data": {
      "text/html": [
       "<div>\n",
       "<style scoped>\n",
       "    .dataframe tbody tr th:only-of-type {\n",
       "        vertical-align: middle;\n",
       "    }\n",
       "\n",
       "    .dataframe tbody tr th {\n",
       "        vertical-align: top;\n",
       "    }\n",
       "\n",
       "    .dataframe thead th {\n",
       "        text-align: right;\n",
       "    }\n",
       "</style>\n",
       "<table border=\"1\" class=\"dataframe\">\n",
       "  <thead>\n",
       "    <tr style=\"text-align: right;\">\n",
       "      <th></th>\n",
       "      <th>age</th>\n",
       "      <th>education-num</th>\n",
       "      <th>sex</th>\n",
       "      <th>capital-gain</th>\n",
       "      <th>capital-loss</th>\n",
       "      <th>hours-per-week</th>\n",
       "      <th>native-country</th>\n",
       "      <th>occupation</th>\n",
       "      <th>workclass</th>\n",
       "      <th>relationship</th>\n",
       "      <th>race</th>\n",
       "      <th>marital-status</th>\n",
       "      <th>education</th>\n",
       "    </tr>\n",
       "  </thead>\n",
       "  <tbody>\n",
       "    <tr>\n",
       "      <th>4364</th>\n",
       "      <td>28</td>\n",
       "      <td>9</td>\n",
       "      <td>0.302285</td>\n",
       "      <td>0</td>\n",
       "      <td>0</td>\n",
       "      <td>40</td>\n",
       "      <td>0.020539</td>\n",
       "      <td>-0.007220</td>\n",
       "      <td>0.252165</td>\n",
       "      <td>-3.146165</td>\n",
       "      <td>0.085567</td>\n",
       "      <td>-1.902022</td>\n",
       "      <td>-0.368765</td>\n",
       "    </tr>\n",
       "    <tr>\n",
       "      <th>4851</th>\n",
       "      <td>18</td>\n",
       "      <td>6</td>\n",
       "      <td>0.302285</td>\n",
       "      <td>0</td>\n",
       "      <td>0</td>\n",
       "      <td>11</td>\n",
       "      <td>0.020539</td>\n",
       "      <td>-1.934122</td>\n",
       "      <td>-0.103603</td>\n",
       "      <td>-3.146165</td>\n",
       "      <td>0.085567</td>\n",
       "      <td>-1.902022</td>\n",
       "      <td>-1.205318</td>\n",
       "    </tr>\n",
       "    <tr>\n",
       "      <th>948</th>\n",
       "      <td>43</td>\n",
       "      <td>9</td>\n",
       "      <td>-0.863275</td>\n",
       "      <td>0</td>\n",
       "      <td>0</td>\n",
       "      <td>40</td>\n",
       "      <td>0.020539</td>\n",
       "      <td>-0.801241</td>\n",
       "      <td>0.149164</td>\n",
       "      <td>-1.553922</td>\n",
       "      <td>-0.756959</td>\n",
       "      <td>-1.902022</td>\n",
       "      <td>-0.368765</td>\n",
       "    </tr>\n",
       "    <tr>\n",
       "      <th>4486</th>\n",
       "      <td>35</td>\n",
       "      <td>6</td>\n",
       "      <td>0.302285</td>\n",
       "      <td>0</td>\n",
       "      <td>0</td>\n",
       "      <td>50</td>\n",
       "      <td>0.020539</td>\n",
       "      <td>-0.677132</td>\n",
       "      <td>-0.103603</td>\n",
       "      <td>-1.057800</td>\n",
       "      <td>0.085567</td>\n",
       "      <td>-1.113013</td>\n",
       "      <td>-1.205318</td>\n",
       "    </tr>\n",
       "    <tr>\n",
       "      <th>1390</th>\n",
       "      <td>36</td>\n",
       "      <td>13</td>\n",
       "      <td>0.302285</td>\n",
       "      <td>0</td>\n",
       "      <td>0</td>\n",
       "      <td>40</td>\n",
       "      <td>0.020539</td>\n",
       "      <td>-0.801241</td>\n",
       "      <td>0.124464</td>\n",
       "      <td>0.937510</td>\n",
       "      <td>0.085567</td>\n",
       "      <td>0.968321</td>\n",
       "      <td>0.725021</td>\n",
       "    </tr>\n",
       "  </tbody>\n",
       "</table>\n",
       "</div>"
      ],
      "text/plain": [
       "      age  education-num       sex  capital-gain  capital-loss  \\\n",
       "4364   28              9  0.302285             0             0   \n",
       "4851   18              6  0.302285             0             0   \n",
       "948    43              9 -0.863275             0             0   \n",
       "4486   35              6  0.302285             0             0   \n",
       "1390   36             13  0.302285             0             0   \n",
       "\n",
       "      hours-per-week  native-country  occupation  workclass  relationship  \\\n",
       "4364              40        0.020539   -0.007220   0.252165     -3.146165   \n",
       "4851              11        0.020539   -1.934122  -0.103603     -3.146165   \n",
       "948               40        0.020539   -0.801241   0.149164     -1.553922   \n",
       "4486              50        0.020539   -0.677132  -0.103603     -1.057800   \n",
       "1390              40        0.020539   -0.801241   0.124464      0.937510   \n",
       "\n",
       "          race  marital-status  education  \n",
       "4364  0.085567       -1.902022  -0.368765  \n",
       "4851  0.085567       -1.902022  -1.205318  \n",
       "948  -0.756959       -1.902022  -0.368765  \n",
       "4486  0.085567       -1.113013  -1.205318  \n",
       "1390  0.085567        0.968321   0.725021  "
      ]
     },
     "execution_count": 122,
     "metadata": {},
     "output_type": "execute_result"
    }
   ],
   "source": [
    "X_train.head()"
   ]
  },
  {
   "cell_type": "code",
   "execution_count": 129,
   "id": "b38b53f6",
   "metadata": {},
   "outputs": [],
   "source": [
    "from sklearn.linear_model import LogisticRegression\n",
    "from sklearn.metrics import classification_report, confusion_matrix, accuracy_score"
   ]
  },
  {
   "cell_type": "code",
   "execution_count": 125,
   "id": "537d7664",
   "metadata": {},
   "outputs": [
    {
     "data": {
      "text/html": [
       "<style>#sk-container-id-2 {color: black;background-color: white;}#sk-container-id-2 pre{padding: 0;}#sk-container-id-2 div.sk-toggleable {background-color: white;}#sk-container-id-2 label.sk-toggleable__label {cursor: pointer;display: block;width: 100%;margin-bottom: 0;padding: 0.3em;box-sizing: border-box;text-align: center;}#sk-container-id-2 label.sk-toggleable__label-arrow:before {content: \"▸\";float: left;margin-right: 0.25em;color: #696969;}#sk-container-id-2 label.sk-toggleable__label-arrow:hover:before {color: black;}#sk-container-id-2 div.sk-estimator:hover label.sk-toggleable__label-arrow:before {color: black;}#sk-container-id-2 div.sk-toggleable__content {max-height: 0;max-width: 0;overflow: hidden;text-align: left;background-color: #f0f8ff;}#sk-container-id-2 div.sk-toggleable__content pre {margin: 0.2em;color: black;border-radius: 0.25em;background-color: #f0f8ff;}#sk-container-id-2 input.sk-toggleable__control:checked~div.sk-toggleable__content {max-height: 200px;max-width: 100%;overflow: auto;}#sk-container-id-2 input.sk-toggleable__control:checked~label.sk-toggleable__label-arrow:before {content: \"▾\";}#sk-container-id-2 div.sk-estimator input.sk-toggleable__control:checked~label.sk-toggleable__label {background-color: #d4ebff;}#sk-container-id-2 div.sk-label input.sk-toggleable__control:checked~label.sk-toggleable__label {background-color: #d4ebff;}#sk-container-id-2 input.sk-hidden--visually {border: 0;clip: rect(1px 1px 1px 1px);clip: rect(1px, 1px, 1px, 1px);height: 1px;margin: -1px;overflow: hidden;padding: 0;position: absolute;width: 1px;}#sk-container-id-2 div.sk-estimator {font-family: monospace;background-color: #f0f8ff;border: 1px dotted black;border-radius: 0.25em;box-sizing: border-box;margin-bottom: 0.5em;}#sk-container-id-2 div.sk-estimator:hover {background-color: #d4ebff;}#sk-container-id-2 div.sk-parallel-item::after {content: \"\";width: 100%;border-bottom: 1px solid gray;flex-grow: 1;}#sk-container-id-2 div.sk-label:hover label.sk-toggleable__label {background-color: #d4ebff;}#sk-container-id-2 div.sk-serial::before {content: \"\";position: absolute;border-left: 1px solid gray;box-sizing: border-box;top: 0;bottom: 0;left: 50%;z-index: 0;}#sk-container-id-2 div.sk-serial {display: flex;flex-direction: column;align-items: center;background-color: white;padding-right: 0.2em;padding-left: 0.2em;position: relative;}#sk-container-id-2 div.sk-item {position: relative;z-index: 1;}#sk-container-id-2 div.sk-parallel {display: flex;align-items: stretch;justify-content: center;background-color: white;position: relative;}#sk-container-id-2 div.sk-item::before, #sk-container-id-2 div.sk-parallel-item::before {content: \"\";position: absolute;border-left: 1px solid gray;box-sizing: border-box;top: 0;bottom: 0;left: 50%;z-index: -1;}#sk-container-id-2 div.sk-parallel-item {display: flex;flex-direction: column;z-index: 1;position: relative;background-color: white;}#sk-container-id-2 div.sk-parallel-item:first-child::after {align-self: flex-end;width: 50%;}#sk-container-id-2 div.sk-parallel-item:last-child::after {align-self: flex-start;width: 50%;}#sk-container-id-2 div.sk-parallel-item:only-child::after {width: 0;}#sk-container-id-2 div.sk-dashed-wrapped {border: 1px dashed gray;margin: 0 0.4em 0.5em 0.4em;box-sizing: border-box;padding-bottom: 0.4em;background-color: white;}#sk-container-id-2 div.sk-label label {font-family: monospace;font-weight: bold;display: inline-block;line-height: 1.2em;}#sk-container-id-2 div.sk-label-container {text-align: center;}#sk-container-id-2 div.sk-container {/* jupyter's `normalize.less` sets `[hidden] { display: none; }` but bootstrap.min.css set `[hidden] { display: none !important; }` so we also need the `!important` here to be able to override the default hidden behavior on the sphinx rendered scikit-learn.org. See: https://github.com/scikit-learn/scikit-learn/issues/21755 */display: inline-block !important;position: relative;}#sk-container-id-2 div.sk-text-repr-fallback {display: none;}</style><div id=\"sk-container-id-2\" class=\"sk-top-container\"><div class=\"sk-text-repr-fallback\"><pre>LogisticRegression()</pre><b>In a Jupyter environment, please rerun this cell to show the HTML representation or trust the notebook. <br />On GitHub, the HTML representation is unable to render, please try loading this page with nbviewer.org.</b></div><div class=\"sk-container\" hidden><div class=\"sk-item\"><div class=\"sk-estimator sk-toggleable\"><input class=\"sk-toggleable__control sk-hidden--visually\" id=\"sk-estimator-id-2\" type=\"checkbox\" checked><label for=\"sk-estimator-id-2\" class=\"sk-toggleable__label sk-toggleable__label-arrow\">LogisticRegression</label><div class=\"sk-toggleable__content\"><pre>LogisticRegression()</pre></div></div></div></div></div>"
      ],
      "text/plain": [
       "LogisticRegression()"
      ]
     },
     "execution_count": 125,
     "metadata": {},
     "output_type": "execute_result"
    }
   ],
   "source": [
    "lr=LogisticRegression()\n",
    "lr.fit(X_train,y_train)\n"
   ]
  },
  {
   "cell_type": "code",
   "execution_count": 126,
   "id": "f3130f09",
   "metadata": {},
   "outputs": [
    {
     "data": {
      "text/plain": [
       "array([0, 1, 0, ..., 1, 0, 0], dtype=int64)"
      ]
     },
     "execution_count": 126,
     "metadata": {},
     "output_type": "execute_result"
    }
   ],
   "source": [
    "ypred_lr_train=lr.predict(X_train)\n",
    "ypred_lr=lr.predict(X_test)\n",
    "ypred_lr"
   ]
  },
  {
   "cell_type": "code",
   "execution_count": 130,
   "id": "50ac526a",
   "metadata": {},
   "outputs": [
    {
     "name": "stdout",
     "output_type": "stream",
     "text": [
      "0.838\n",
      "[[1044   89]\n",
      " [ 154  213]]\n",
      "              precision    recall  f1-score   support\n",
      "\n",
      "           0       0.87      0.92      0.90      1133\n",
      "           1       0.71      0.58      0.64       367\n",
      "\n",
      "    accuracy                           0.84      1500\n",
      "   macro avg       0.79      0.75      0.77      1500\n",
      "weighted avg       0.83      0.84      0.83      1500\n",
      "\n"
     ]
    }
   ],
   "source": [
    "print(accuracy_score(y_test,ypred_lr))\n",
    "print(confusion_matrix(y_test,ypred_lr))\n",
    "print(classification_report(y_test,ypred_lr))"
   ]
  },
  {
   "cell_type": "code",
   "execution_count": 131,
   "id": "99bcecc7",
   "metadata": {},
   "outputs": [],
   "source": [
    "Y=df_salary.Expense\n",
    "X=df_salary[['age', 'education-num','sex',\n",
    "               'capital-gain','capital-loss', 'hours-per-week',\n",
    "               'native-country','occupation', 'workclass',\n",
    "               'relationship','race', 'marital-status', 'education']]\n",
    "               "
   ]
  },
  {
   "cell_type": "code",
   "execution_count": 132,
   "id": "f3f1f4a4",
   "metadata": {},
   "outputs": [],
   "source": [
    "def per_measures(model,test,pred):\n",
    "\n",
    "\n",
    "  accuracy    =accuracy_score(test,pred)\n",
    "  f1score     =f1_score(test,pred)\n",
    "  recall      =recall_score(test,pred)\n",
    "  precision   =precision_score(test,pred)\n",
    "  # aic         =model.aic\n",
    "  # reliability = cohen_kappa_score(test,pred)\n",
    "\n",
    "\n",
    "\n",
    "  return (accuracy,recall,precision,f1score,)\n",
    "  \n",
    "def update_performance (name,\n",
    "                        model,\n",
    "                        test,\n",
    "                        pred\n",
    "                           ):\n",
    "\n",
    "    # assign 'comp_perf' as global variable\n",
    "    global perf_score\n",
    "\n",
    "\n",
    "    # append the results to the dataframe 'score_card'\n",
    "    # 'ignore_index = True' do not consider the index labels\n",
    "    perf_score = perf_score.append({'Model'       : name,\n",
    "                                    'Accuracy'    : per_measures(model,test,pred)[0],\n",
    "                                    'Recall'      : per_measures(model,test,pred)[1],\n",
    "                                    'Precision'   : per_measures(model,test,pred)[2],\n",
    "                                    'F1 Score'    : per_measures(model,test,pred)[3]\n",
    "                                    # 'AIC'         : per_measures(model,ytest,ypred)[4],\n",
    "                                    # 'Reliability' : per_measures(model,ytest,ypred)[5]\n",
    "\n",
    "                                     },\n",
    "                                   ignore_index = True)\n"
   ]
  },
  {
   "cell_type": "code",
   "execution_count": 133,
   "id": "cc170066",
   "metadata": {},
   "outputs": [
    {
     "data": {
      "text/html": [
       "<div>\n",
       "<style scoped>\n",
       "    .dataframe tbody tr th:only-of-type {\n",
       "        vertical-align: middle;\n",
       "    }\n",
       "\n",
       "    .dataframe tbody tr th {\n",
       "        vertical-align: top;\n",
       "    }\n",
       "\n",
       "    .dataframe thead th {\n",
       "        text-align: right;\n",
       "    }\n",
       "</style>\n",
       "<table border=\"1\" class=\"dataframe\">\n",
       "  <thead>\n",
       "    <tr style=\"text-align: right;\">\n",
       "      <th></th>\n",
       "      <th>Model</th>\n",
       "      <th>Accuracy</th>\n",
       "      <th>Recall</th>\n",
       "      <th>Precision</th>\n",
       "      <th>F1 Score</th>\n",
       "    </tr>\n",
       "  </thead>\n",
       "  <tbody>\n",
       "  </tbody>\n",
       "</table>\n",
       "</div>"
      ],
      "text/plain": [
       "Empty DataFrame\n",
       "Columns: [Model, Accuracy, Recall, Precision, F1 Score]\n",
       "Index: []"
      ]
     },
     "execution_count": 133,
     "metadata": {},
     "output_type": "execute_result"
    }
   ],
   "source": [
    "perf_score = pd.DataFrame(columns=[\"Model\", \"Accuracy\",\"Recall\",\"Precision\",\"F1 Score\"] )\n",
    "\n",
    "#print the dataframe\n",
    "perf_score"
   ]
  },
  {
   "cell_type": "code",
   "execution_count": 135,
   "id": "f3b57c22",
   "metadata": {},
   "outputs": [
    {
     "ename": "NameError",
     "evalue": "name 'gnb' is not defined",
     "output_type": "error",
     "traceback": [
      "\u001b[1;31m---------------------------------------------------------------------------\u001b[0m",
      "\u001b[1;31mNameError\u001b[0m                                 Traceback (most recent call last)",
      "Cell \u001b[1;32mIn[135], line 1\u001b[0m\n\u001b[1;32m----> 1\u001b[0m update_performance(name\u001b[38;5;241m=\u001b[39m\u001b[38;5;124m'\u001b[39m\u001b[38;5;124mGaussian NB\u001b[39m\u001b[38;5;124m'\u001b[39m,model\u001b[38;5;241m=\u001b[39m\u001b[43mgnb\u001b[49m,test\u001b[38;5;241m=\u001b[39my_test,pred\u001b[38;5;241m=\u001b[39my_pred_gnb)\n",
      "\u001b[1;31mNameError\u001b[0m: name 'gnb' is not defined"
     ]
    }
   ],
   "source": [
    "update_performance(name='Gaussian NB',model=gnb,test=y_test,pred=y_pred_gnb)"
   ]
  },
  {
   "cell_type": "code",
   "execution_count": 140,
   "id": "7c9d0a82",
   "metadata": {},
   "outputs": [
    {
     "ename": "ModuleNotFoundError",
     "evalue": "No module named 'xgboost'",
     "output_type": "error",
     "traceback": [
      "\u001b[1;31m---------------------------------------------------------------------------\u001b[0m",
      "\u001b[1;31mModuleNotFoundError\u001b[0m                       Traceback (most recent call last)",
      "Cell \u001b[1;32mIn[140], line 1\u001b[0m\n\u001b[1;32m----> 1\u001b[0m \u001b[38;5;28;01mfrom\u001b[39;00m \u001b[38;5;21;01mxgboost\u001b[39;00m \u001b[38;5;28;01mimport\u001b[39;00m XGBClassifier\n",
      "\u001b[1;31mModuleNotFoundError\u001b[0m: No module named 'xgboost'"
     ]
    }
   ],
   "source": [
    "from xgboost import XGBClassifier"
   ]
  },
  {
   "cell_type": "code",
   "execution_count": 142,
   "id": "17ce6d87",
   "metadata": {},
   "outputs": [
    {
     "ename": "NameError",
     "evalue": "name 'XGBClassifier' is not defined",
     "output_type": "error",
     "traceback": [
      "\u001b[1;31m---------------------------------------------------------------------------\u001b[0m",
      "\u001b[1;31mNameError\u001b[0m                                 Traceback (most recent call last)",
      "Cell \u001b[1;32mIn[142], line 1\u001b[0m\n\u001b[1;32m----> 1\u001b[0m xgb\u001b[38;5;241m=\u001b[39m\u001b[43mXGBClassifier\u001b[49m(booster\u001b[38;5;241m=\u001b[39m\u001b[38;5;124m'\u001b[39m\u001b[38;5;124mgbtree\u001b[39m\u001b[38;5;124m'\u001b[39m,gamma\u001b[38;5;241m=\u001b[39m\u001b[38;5;241m3\u001b[39m,max_depth\u001b[38;5;241m=\u001b[39m\u001b[38;5;241m3\u001b[39m,min_child_weight\u001b[38;5;241m=\u001b[39m\u001b[38;5;241m3\u001b[39m,\n\u001b[0;32m      2\u001b[0m                  n_estimator\u001b[38;5;241m=\u001b[39m\u001b[38;5;241m50\u001b[39m,reg_lambda\u001b[38;5;241m=\u001b[39m\u001b[38;5;241m1\u001b[39m,random_state\u001b[38;5;241m=\u001b[39m\u001b[38;5;241m10\u001b[39m)\n\u001b[0;32m      3\u001b[0m xgb\u001b[38;5;241m.\u001b[39mfit(X_train,y_ytrain)\n",
      "\u001b[1;31mNameError\u001b[0m: name 'XGBClassifier' is not defined"
     ]
    }
   ],
   "source": [
    "xgb=XGBClassifier(booster='gbtree',gamma=3,max_depth=3,min_child_weight=3,\n",
    "                 n_estimator=50,reg_lambda=1,random_state=10)\n",
    "xgb.fit(X_train,y_ytrain)"
   ]
  },
  {
   "cell_type": "code",
   "execution_count": 144,
   "id": "5feb6f6d",
   "metadata": {},
   "outputs": [
    {
     "ename": "NameError",
     "evalue": "name 'BernoulliNB' is not defined",
     "output_type": "error",
     "traceback": [
      "\u001b[1;31m---------------------------------------------------------------------------\u001b[0m",
      "\u001b[1;31mNameError\u001b[0m                                 Traceback (most recent call last)",
      "Cell \u001b[1;32mIn[144], line 1\u001b[0m\n\u001b[1;32m----> 1\u001b[0m bnb \u001b[38;5;241m=\u001b[39m \u001b[43mBernoulliNB\u001b[49m()\n\u001b[0;32m      3\u001b[0m bnb\u001b[38;5;241m.\u001b[39mfit(X_train,y_train)\n\u001b[0;32m      6\u001b[0m ypred_bnb \u001b[38;5;241m=\u001b[39m bnb\u001b[38;5;241m.\u001b[39mpredict(X_test)\n",
      "\u001b[1;31mNameError\u001b[0m: name 'BernoulliNB' is not defined"
     ]
    }
   ],
   "source": [
    "bnb = BernoulliNB()\n",
    "\n",
    "bnb.fit(X_train,y_train)\n",
    "\n",
    "\n",
    "ypred_bnb = bnb.predict(X_test)\n",
    "\n",
    "print(accuracy_score(y_test,ypred_bnb))\n",
    "print(confusion_matrix(y_test,ypred_bnb))\n",
    "print(classification_report(y_test,ypred_bnb))"
   ]
  },
  {
   "cell_type": "code",
   "execution_count": 146,
   "id": "ae4ef596",
   "metadata": {},
   "outputs": [
    {
     "ename": "NameError",
     "evalue": "name 'bnb' is not defined",
     "output_type": "error",
     "traceback": [
      "\u001b[1;31m---------------------------------------------------------------------------\u001b[0m",
      "\u001b[1;31mNameError\u001b[0m                                 Traceback (most recent call last)",
      "Cell \u001b[1;32mIn[146], line 1\u001b[0m\n\u001b[1;32m----> 1\u001b[0m update_performance(name \u001b[38;5;241m=\u001b[39m \u001b[38;5;124m'\u001b[39m\u001b[38;5;124mBernoulli NB\u001b[39m\u001b[38;5;124m'\u001b[39m, model \u001b[38;5;241m=\u001b[39m \u001b[43mbnb\u001b[49m,test\u001b[38;5;241m=\u001b[39my_test,pred\u001b[38;5;241m=\u001b[39mypred_bnb)\n\u001b[0;32m      3\u001b[0m \u001b[38;5;66;03m# print the dataframe\u001b[39;00m\n\u001b[0;32m      4\u001b[0m perf_score\n",
      "\u001b[1;31mNameError\u001b[0m: name 'bnb' is not defined"
     ]
    }
   ],
   "source": [
    "update_performance(name = 'Bernoulli NB', model = bnb,test=y_test,pred=ypred_bnb)\n",
    "\n",
    "# print the dataframe\n",
    "perf_score\n"
   ]
  },
  {
   "cell_type": "code",
   "execution_count": 150,
   "id": "ab027a39",
   "metadata": {},
   "outputs": [],
   "source": [
    "#Lets introduce some Hyperparameters to tuen the decision tree"
   ]
  },
  {
   "cell_type": "code",
   "execution_count": 151,
   "id": "ad60a461",
   "metadata": {},
   "outputs": [],
   "source": [
    "from sklearn.tree import DecisionTreeClassifier"
   ]
  },
  {
   "cell_type": "code",
   "execution_count": 153,
   "id": "a105af05",
   "metadata": {},
   "outputs": [
    {
     "name": "stdout",
     "output_type": "stream",
     "text": [
      "0.836\n",
      "[[1028  105]\n",
      " [ 141  226]]\n",
      "              precision    recall  f1-score   support\n",
      "\n",
      "           0       0.88      0.91      0.89      1133\n",
      "           1       0.68      0.62      0.65       367\n",
      "\n",
      "    accuracy                           0.84      1500\n",
      "   macro avg       0.78      0.76      0.77      1500\n",
      "weighted avg       0.83      0.84      0.83      1500\n",
      "\n"
     ]
    }
   ],
   "source": [
    "dt_e3=DecisionTreeClassifier(criterion='entropy',max_depth=3,random_state=10)\n",
    "dt_e3.fit(X_train,y_train)\n",
    "\n",
    "ypred_dt_e3 = dt_e3.predict(X_test)\n",
    "\n",
    "print(accuracy_score(y_test,ypred_dt_e3))\n",
    "print(confusion_matrix(y_test,ypred_dt_e3))\n",
    "print(classification_report(y_test,ypred_dt_e3))"
   ]
  },
  {
   "cell_type": "code",
   "execution_count": 154,
   "id": "113b7d92",
   "metadata": {},
   "outputs": [],
   "source": [
    "#Using HyperParameters"
   ]
  },
  {
   "cell_type": "code",
   "execution_count": 158,
   "id": "79feb02c",
   "metadata": {},
   "outputs": [],
   "source": [
    "\n",
    "tuned_paramaters = [{'criterion': ['entropy','gini'],\n",
    "                     'max_depth': [5,10],  # 5,6,7,\n",
    "                     'max_features': [\"sqrt\", \"log2\"], # it can be either square root of the feature or log of number of features\n",
    "                     'min_samples_split': [2,5,8], # 1-3% of the total records\n",
    "                     'min_samples_leaf': [1,5,9], # 1-3% of the min_sample_split\n",
    "                     'max_leaf_nodes': [5,8]}]\n",
    "                     "
   ]
  },
  {
   "cell_type": "code",
   "execution_count": 166,
   "id": "af9bb164",
   "metadata": {},
   "outputs": [],
   "source": [
    "\n",
    "from sklearn.model_selection import GridSearchCV"
   ]
  },
  {
   "cell_type": "code",
   "execution_count": 165,
   "id": "5d755217",
   "metadata": {},
   "outputs": [
    {
     "ename": "NameError",
     "evalue": "name 'tuned_parameters' is not defined",
     "output_type": "error",
     "traceback": [
      "\u001b[1;31m---------------------------------------------------------------------------\u001b[0m",
      "\u001b[1;31mNameError\u001b[0m                                 Traceback (most recent call last)",
      "Cell \u001b[1;32mIn[165], line 3\u001b[0m\n\u001b[0;32m      1\u001b[0m dt\u001b[38;5;241m=\u001b[39mDecisionTreeClassifier(random_state\u001b[38;5;241m=\u001b[39m\u001b[38;5;241m10\u001b[39m)\n\u001b[0;32m      2\u001b[0m tree_grid\u001b[38;5;241m=\u001b[39mGridSearchCV(estimator\u001b[38;5;241m=\u001b[39mdt,\n\u001b[1;32m----> 3\u001b[0m                       param_grid\u001b[38;5;241m=\u001b[39m\u001b[43mtuned_parameters\u001b[49m,\n\u001b[0;32m      4\u001b[0m                       cv\u001b[38;5;241m=\u001b[39m\u001b[38;5;241m5\u001b[39m)\n",
      "\u001b[1;31mNameError\u001b[0m: name 'tuned_parameters' is not defined"
     ]
    }
   ],
   "source": [
    "dt=DecisionTreeClassifier(random_state=10)\n",
    "tree_grid=GridSearchCV(estimator=dt,\n",
    "                      param_grid=tuned_parameters,\n",
    "                      cv=5)"
   ]
  },
  {
   "cell_type": "code",
   "execution_count": 170,
   "id": "d31d4bd1",
   "metadata": {},
   "outputs": [
    {
     "ename": "NameError",
     "evalue": "name 'tree_grid' is not defined",
     "output_type": "error",
     "traceback": [
      "\u001b[1;31m---------------------------------------------------------------------------\u001b[0m",
      "\u001b[1;31mNameError\u001b[0m                                 Traceback (most recent call last)",
      "Cell \u001b[1;32mIn[170], line 1\u001b[0m\n\u001b[1;32m----> 1\u001b[0m tree_grid_model\u001b[38;5;241m=\u001b[39m\u001b[43mtree_grid\u001b[49m\u001b[38;5;241m.\u001b[39mfit(X_train,y_train)\n\u001b[0;32m      2\u001b[0m \u001b[38;5;28mprint\u001b[39m(\u001b[38;5;124m'\u001b[39m\u001b[38;5;124mBest parameters for decision tree classifier:\u001b[39m\u001b[38;5;124m'\u001b[39m,tree_grid_model\u001b[38;5;241m.\u001b[39mbest_params_,\u001b[38;5;124m'\u001b[39m\u001b[38;5;130;01m\\n\u001b[39;00m\u001b[38;5;124m'\u001b[39m)\n",
      "\u001b[1;31mNameError\u001b[0m: name 'tree_grid' is not defined"
     ]
    }
   ],
   "source": [
    "tree_grid_model=tree_grid.fit(X_train,y_train)\n",
    "print('Best parameters for decision tree classifier:',tree_grid_model.best_params_,'\\n')"
   ]
  },
  {
   "cell_type": "code",
   "execution_count": 174,
   "id": "6068319d",
   "metadata": {},
   "outputs": [],
   "source": [
    "dt_grid_model=DecisionTreeClassifier(criterion='entropy',\n",
    "                                    max_depth=5,\n",
    "                                    max_features='sqrt',\n",
    "                                    max_leaf_nodes=8,\n",
    "                                    min_samples_leaf=1,\n",
    "                                    min_samples_split=2,\n",
    "                                    random_state=10)"
   ]
  },
  {
   "cell_type": "code",
   "execution_count": 178,
   "id": "71790d27",
   "metadata": {},
   "outputs": [
    {
     "ename": "NameError",
     "evalue": "name 'dt_grid' is not defined",
     "output_type": "error",
     "traceback": [
      "\u001b[1;31m---------------------------------------------------------------------------\u001b[0m",
      "\u001b[1;31mNameError\u001b[0m                                 Traceback (most recent call last)",
      "Cell \u001b[1;32mIn[178], line 1\u001b[0m\n\u001b[1;32m----> 1\u001b[0m dt_grid_model\u001b[38;5;241m=\u001b[39m\u001b[43mdt_grid\u001b[49m\u001b[38;5;241m.\u001b[39mfit(X_train,y_train)\n\u001b[0;32m      2\u001b[0m ypred_dt_tp\u001b[38;5;241m=\u001b[39mdt_grid_model\u001b[38;5;241m.\u001b[39mpredict(X_test)\n\u001b[0;32m      3\u001b[0m \u001b[38;5;28mprint\u001b[39m(accuracy_score(y_test,ypred_dt_tp))\n",
      "\u001b[1;31mNameError\u001b[0m: name 'dt_grid' is not defined"
     ]
    }
   ],
   "source": [
    "dt_grid_model=dt_grid.fit(X_train,y_train)\n",
    "ypred_dt_tp=dt_grid_model.predict(X_test)\n",
    "print(accuracy_score(y_test,ypred_dt_tp))\n",
    "print(confusion_matrix(y_test,ypred_dt_tp))\n",
    "print(classification_report(y_test,ypred_dt_tp))"
   ]
  },
  {
   "cell_type": "code",
   "execution_count": 180,
   "id": "43c4280e",
   "metadata": {},
   "outputs": [
    {
     "ename": "NameError",
     "evalue": "name 'ypred_dt_tp' is not defined",
     "output_type": "error",
     "traceback": [
      "\u001b[1;31m---------------------------------------------------------------------------\u001b[0m",
      "\u001b[1;31mNameError\u001b[0m                                 Traceback (most recent call last)",
      "Cell \u001b[1;32mIn[180], line 1\u001b[0m\n\u001b[1;32m----> 1\u001b[0m update_performance(name \u001b[38;5;241m=\u001b[39m \u001b[38;5;124m'\u001b[39m\u001b[38;5;124mDecison Tree-Tuned\u001b[39m\u001b[38;5;124m'\u001b[39m, model \u001b[38;5;241m=\u001b[39m dt_grid_model,test\u001b[38;5;241m=\u001b[39my_test,pred\u001b[38;5;241m=\u001b[39m\u001b[43mypred_dt_tp\u001b[49m)\n\u001b[0;32m      3\u001b[0m \u001b[38;5;66;03m# print the dataframe\u001b[39;00m\n\u001b[0;32m      4\u001b[0m perf_score\n",
      "\u001b[1;31mNameError\u001b[0m: name 'ypred_dt_tp' is not defined"
     ]
    }
   ],
   "source": [
    "update_performance(name = 'Decison Tree-Tuned', model = dt_grid_model,test=y_test,pred=ypred_dt_tp)\n",
    "\n",
    "# print the dataframe\n",
    "perf_score"
   ]
  },
  {
   "cell_type": "code",
   "execution_count": 181,
   "id": "04f12ef4",
   "metadata": {},
   "outputs": [],
   "source": [
    "#Fine tuning "
   ]
  },
  {
   "cell_type": "code",
   "execution_count": 183,
   "id": "d4123c3a",
   "metadata": {},
   "outputs": [],
   "source": [
    "params =             [{'criterion': ['entropy', 'gini'],\n",
    "                     'n_estimators': [100],\n",
    "                     'max_depth': [10, 15],\n",
    "                     'max_features': ['sqrt', 'log2'],\n",
    "                     'min_samples_split': [2, 8],\n",
    "                     'min_samples_leaf': [5, 9],\n",
    "                     'max_leaf_nodes': [8, 11]}]"
   ]
  },
  {
   "cell_type": "code",
   "execution_count": 185,
   "id": "bb76df3f",
   "metadata": {},
   "outputs": [
    {
     "ename": "NameError",
     "evalue": "name 'RandomForestClassifier' is not defined",
     "output_type": "error",
     "traceback": [
      "\u001b[1;31m---------------------------------------------------------------------------\u001b[0m",
      "\u001b[1;31mNameError\u001b[0m                                 Traceback (most recent call last)",
      "Cell \u001b[1;32mIn[185], line 1\u001b[0m\n\u001b[1;32m----> 1\u001b[0m rf \u001b[38;5;241m=\u001b[39m\u001b[43mRandomForestClassifier\u001b[49m(random_state\u001b[38;5;241m=\u001b[39m\u001b[38;5;241m10\u001b[39m)\n\u001b[0;32m      3\u001b[0m rf_cv \u001b[38;5;241m=\u001b[39m GridSearchCV(rf,params,cv\u001b[38;5;241m=\u001b[39m\u001b[38;5;241m5\u001b[39m,scoring\u001b[38;5;241m=\u001b[39m\u001b[38;5;124m'\u001b[39m\u001b[38;5;124maccuracy\u001b[39m\u001b[38;5;124m'\u001b[39m)\n\u001b[0;32m      5\u001b[0m rf_cv\u001b[38;5;241m.\u001b[39mfit(X_train,y_train)\n",
      "\u001b[1;31mNameError\u001b[0m: name 'RandomForestClassifier' is not defined"
     ]
    }
   ],
   "source": [
    "rf =RandomForestClassifier(random_state=10)\n",
    "\n",
    "rf_cv = GridSearchCV(rf,params,cv=5,scoring='accuracy')\n",
    "\n",
    "rf_cv.fit(X_train,y_train)\n",
    "\n",
    "rf_cv.best_params_"
   ]
  },
  {
   "cell_type": "code",
   "execution_count": 186,
   "id": "c470c25f",
   "metadata": {},
   "outputs": [
    {
     "ename": "NameError",
     "evalue": "name 'rf_model' is not defined",
     "output_type": "error",
     "traceback": [
      "\u001b[1;31m---------------------------------------------------------------------------\u001b[0m",
      "\u001b[1;31mNameError\u001b[0m                                 Traceback (most recent call last)",
      "Cell \u001b[1;32mIn[186], line 1\u001b[0m\n\u001b[1;32m----> 1\u001b[0m \u001b[43mrf_model\u001b[49m\u001b[38;5;241m.\u001b[39mfit(X_train,y_train)\n\u001b[0;32m      2\u001b[0m ypred_rf_tp\u001b[38;5;241m=\u001b[39mrf_model\u001b[38;5;241m.\u001b[39mpredict(X_test)\n",
      "\u001b[1;31mNameError\u001b[0m: name 'rf_model' is not defined"
     ]
    }
   ],
   "source": [
    "rf_model.fit(X_train,y_train)\n",
    "ypred_rf_tp=rf_model.predict(X_test)\n"
   ]
  },
  {
   "cell_type": "code",
   "execution_count": 188,
   "id": "61e422c6",
   "metadata": {},
   "outputs": [
    {
     "ename": "NameError",
     "evalue": "name 'rf' is not defined",
     "output_type": "error",
     "traceback": [
      "\u001b[1;31m---------------------------------------------------------------------------\u001b[0m",
      "\u001b[1;31mNameError\u001b[0m                                 Traceback (most recent call last)",
      "Cell \u001b[1;32mIn[188], line 1\u001b[0m\n\u001b[1;32m----> 1\u001b[0m update_performance(name \u001b[38;5;241m=\u001b[39m \u001b[38;5;124m'\u001b[39m\u001b[38;5;124mRadom Forest-Tuned\u001b[39m\u001b[38;5;124m'\u001b[39m, model \u001b[38;5;241m=\u001b[39m \u001b[43mrf\u001b[49m,test\u001b[38;5;241m=\u001b[39my_test,pred\u001b[38;5;241m=\u001b[39mypred_rf_tp)\n\u001b[0;32m      3\u001b[0m \u001b[38;5;66;03m# print the dataframe\u001b[39;00m\n\u001b[0;32m      4\u001b[0m perf_score\n",
      "\u001b[1;31mNameError\u001b[0m: name 'rf' is not defined"
     ]
    }
   ],
   "source": [
    "update_performance(name = 'Radom Forest-Tuned', model = rf,test=y_test,pred=ypred_rf_tp)\n",
    "\n",
    "# print the dataframe\n",
    "perf_score\n"
   ]
  },
  {
   "cell_type": "code",
   "execution_count": 189,
   "id": "55afb548",
   "metadata": {},
   "outputs": [],
   "source": [
    "#Bagging Classifier"
   ]
  },
  {
   "cell_type": "code",
   "execution_count": null,
   "id": "bc5368ff",
   "metadata": {},
   "outputs": [],
   "source": [
    "from sklearn.ensemble import BaggingClassifier\n",
    "dt=DecisionTreeClassi"
   ]
  },
  {
   "cell_type": "code",
   "execution_count": null,
   "id": "2a65a7d3",
   "metadata": {},
   "outputs": [],
   "source": [
    "update_performance(name = 'BaggingClassifier-dt', model = rf,test=y_test,pred=ypred_bc)\n",
    "\n",
    "# print the dataframe\n",
    "perf_score"
   ]
  }
 ],
 "metadata": {
  "kernelspec": {
   "display_name": "Python 3 (ipykernel)",
   "language": "python",
   "name": "python3"
  },
  "language_info": {
   "codemirror_mode": {
    "name": "ipython",
    "version": 3
   },
   "file_extension": ".py",
   "mimetype": "text/x-python",
   "name": "python",
   "nbconvert_exporter": "python",
   "pygments_lexer": "ipython3",
   "version": "3.10.9"
  }
 },
 "nbformat": 4,
 "nbformat_minor": 5
}
